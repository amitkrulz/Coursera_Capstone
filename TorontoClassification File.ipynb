{
    "cells": [
        {
            "cell_type": "markdown",
            "metadata": {
                "collapsed": true
            },
            "source": "# 1) Loading and cleaning the data"
        },
        {
            "cell_type": "code",
            "execution_count": 1,
            "metadata": {},
            "outputs": [],
            "source": "import pandas as pd\nimport requests"
        },
        {
            "cell_type": "code",
            "execution_count": 2,
            "metadata": {},
            "outputs": [
                {
                    "data": {
                        "text/plain": "(103, 3)"
                    },
                    "execution_count": 2,
                    "metadata": {},
                    "output_type": "execute_result"
                }
            ],
            "source": "df = pd.read_html('https://en.wikipedia.org/wiki/List_of_postal_codes_of_Canada:_M')\ndf = df[0]\n\n#print('Before dropping Boroughs ='.join(df.shape))\ndf_wikipedia= df[df['Borough'] != 'Not assigned'].reset_index(drop= True)\n\n#there are no Postal codes repeated so we dont need to concatinate the Neighbourhoods.\n\ndf_wikipedia.shape"
        },
        {
            "cell_type": "markdown",
            "metadata": {},
            "source": "# 2) Loading LAtitude and logitude"
        },
        {
            "cell_type": "code",
            "execution_count": 3,
            "metadata": {},
            "outputs": [
                {
                    "name": "stdout",
                    "output_type": "stream",
                    "text": "Requirement already satisfied: geocoder in /opt/conda/envs/Python36/lib/python3.6/site-packages (1.38.1)\nRequirement already satisfied: requests in /opt/conda/envs/Python36/lib/python3.6/site-packages (from geocoder) (2.21.0)\nRequirement already satisfied: ratelim in /opt/conda/envs/Python36/lib/python3.6/site-packages (from geocoder) (0.1.6)\nRequirement already satisfied: future in /opt/conda/envs/Python36/lib/python3.6/site-packages (from geocoder) (0.17.1)\nRequirement already satisfied: click in /opt/conda/envs/Python36/lib/python3.6/site-packages (from geocoder) (7.0)\nRequirement already satisfied: six in /opt/conda/envs/Python36/lib/python3.6/site-packages (from geocoder) (1.12.0)\nRequirement already satisfied: chardet<3.1.0,>=3.0.2 in /opt/conda/envs/Python36/lib/python3.6/site-packages (from requests->geocoder) (3.0.4)\nRequirement already satisfied: certifi>=2017.4.17 in /opt/conda/envs/Python36/lib/python3.6/site-packages (from requests->geocoder) (2020.4.5.1)\nRequirement already satisfied: idna<2.9,>=2.5 in /opt/conda/envs/Python36/lib/python3.6/site-packages (from requests->geocoder) (2.8)\nRequirement already satisfied: urllib3<1.25,>=1.21.1 in /opt/conda/envs/Python36/lib/python3.6/site-packages (from requests->geocoder) (1.24.1)\nRequirement already satisfied: decorator in /opt/conda/envs/Python36/lib/python3.6/site-packages (from ratelim->geocoder) (4.3.2)\n"
                }
            ],
            "source": "!pip install geocoder\nimport geocoder"
        },
        {
            "cell_type": "code",
            "execution_count": 4,
            "metadata": {},
            "outputs": [],
            "source": "!wget -q -O 'zipcode.csv' http://cocl.us/Geospatial_data"
        },
        {
            "cell_type": "code",
            "execution_count": 5,
            "metadata": {},
            "outputs": [
                {
                    "name": "stdout",
                    "output_type": "stream",
                    "text": "515\n"
                }
            ],
            "source": "#df.head(1)\n#geocoder.google('M3A, Toronto, Ontario')\n\ndf1_zip = pd.read_csv('zipcode.csv')\ndf1_zip.head()\n\ndf_merged = pd.merge(df_wikipedia,df1_zip, on=['Postal Code'])\n\ndf_merged.head()\n\nprint(df_merged.size)\n\n#geocoder.google('{}, Toronto, Ontario'.format(df['Postal Code'].iloc(0)))"
        },
        {
            "cell_type": "code",
            "execution_count": 6,
            "metadata": {},
            "outputs": [
                {
                    "data": {
                        "text/html": "<div>\n<style scoped>\n    .dataframe tbody tr th:only-of-type {\n        vertical-align: middle;\n    }\n\n    .dataframe tbody tr th {\n        vertical-align: top;\n    }\n\n    .dataframe thead th {\n        text-align: right;\n    }\n</style>\n<table border=\"1\" class=\"dataframe\">\n  <thead>\n    <tr style=\"text-align: right;\">\n      <th></th>\n      <th>Postal Code</th>\n      <th>Borough</th>\n      <th>Neighborhood</th>\n      <th>Latitude</th>\n      <th>Longitude</th>\n    </tr>\n  </thead>\n  <tbody>\n    <tr>\n      <th>0</th>\n      <td>M3A</td>\n      <td>North York</td>\n      <td>Parkwoods</td>\n      <td>43.753259</td>\n      <td>-79.329656</td>\n    </tr>\n    <tr>\n      <th>1</th>\n      <td>M4A</td>\n      <td>North York</td>\n      <td>Victoria Village</td>\n      <td>43.725882</td>\n      <td>-79.315572</td>\n    </tr>\n    <tr>\n      <th>2</th>\n      <td>M5A</td>\n      <td>Downtown Toronto</td>\n      <td>Regent Park, Harbourfront</td>\n      <td>43.654260</td>\n      <td>-79.360636</td>\n    </tr>\n    <tr>\n      <th>3</th>\n      <td>M6A</td>\n      <td>North York</td>\n      <td>Lawrence Manor, Lawrence Heights</td>\n      <td>43.718518</td>\n      <td>-79.464763</td>\n    </tr>\n    <tr>\n      <th>4</th>\n      <td>M7A</td>\n      <td>Downtown Toronto</td>\n      <td>Queen's Park, Ontario Provincial Government</td>\n      <td>43.662301</td>\n      <td>-79.389494</td>\n    </tr>\n  </tbody>\n</table>\n</div>",
                        "text/plain": "  Postal Code           Borough                                 Neighborhood  \\\n0         M3A        North York                                    Parkwoods   \n1         M4A        North York                             Victoria Village   \n2         M5A  Downtown Toronto                    Regent Park, Harbourfront   \n3         M6A        North York             Lawrence Manor, Lawrence Heights   \n4         M7A  Downtown Toronto  Queen's Park, Ontario Provincial Government   \n\n    Latitude  Longitude  \n0  43.753259 -79.329656  \n1  43.725882 -79.315572  \n2  43.654260 -79.360636  \n3  43.718518 -79.464763  \n4  43.662301 -79.389494  "
                    },
                    "execution_count": 6,
                    "metadata": {},
                    "output_type": "execute_result"
                }
            ],
            "source": "df_merged.head()"
        },
        {
            "cell_type": "markdown",
            "metadata": {},
            "source": "# Filtering data frames to contain Boroughs that have the word Toronto in them"
        },
        {
            "cell_type": "code",
            "execution_count": 7,
            "metadata": {},
            "outputs": [
                {
                    "name": "stdout",
                    "output_type": "stream",
                    "text": "(39, 5)\n"
                }
            ],
            "source": "df_final=df_merged[df_merged['Borough'] .str.contains('Toronto')].reset_index(drop=True)\n\n# These should yeild 39 locations.\n\ndf_final.head()\nprint(df_final.shape)"
        },
        {
            "cell_type": "markdown",
            "metadata": {},
            "source": "# Now talk to Foursquare API to explore each of these locations and find categories of places around each within a radius of 1000 meters"
        },
        {
            "cell_type": "code",
            "execution_count": null,
            "metadata": {},
            "outputs": [],
            "source": "import requests\nfrom pandas.io.json import json_normalize\n\n\nfourSqAPIURL = \"https://api.foursquare.com/v2/venues/explore\"\nCLIENT_ID =\"NINRXL4F12KA0T5Y40SQD1CGLLM2FK1XGE1YZBYMVQINX45V\"\nCLIENT_SECRET= \"4NSTMXF2D5VWNSAMNRUMP3RC1W4NHOLDSVOLK3UX1BXBAZD5\"\n\n    "
        },
        {
            "cell_type": "code",
            "execution_count": 9,
            "metadata": {},
            "outputs": [],
            "source": "def fetch_venue_Details(postalcode,latitude,longitude,v_list):\n    new_venue = {'Postal Code':postalcode,'Latitude':latitude, 'Longitude':longitude,'Type':[],'Name':[]}\n\n    new_venue[\"Name\"] = v_list[\"venue\"][\"name\"]\n    new_venue[\"Type\"] = v_list[\"venue\"][\"categories\"][0]['pluralName']\n    \n\n    new_venues = pd.DataFrame(new_venue, index =[0])\n    \n  \n   # new_venues = new_venues.append(new_venue,ignore_index=True)\n    #print('after--- '+ str(new_venues))\n    return new_venues\n"
        },
        {
            "cell_type": "code",
            "execution_count": 10,
            "metadata": {},
            "outputs": [
                {
                    "name": "stdout",
                    "output_type": "stream",
                    "text": "M5A+++++++++++0\nM7A+++++++++++1\nM5B+++++++++++2\nM5C+++++++++++3\nM4E+++++++++++4\nM5E+++++++++++5\nM5G+++++++++++6\nM6G+++++++++++7\nM5H+++++++++++8\nM6H+++++++++++9\nM5J+++++++++++10\nM6J+++++++++++11\nM4K+++++++++++12\nM5K+++++++++++13\nM6K+++++++++++14\nM4L+++++++++++15\nM5L+++++++++++16\nM4M+++++++++++17\nM4N+++++++++++18\nM5N+++++++++++19\nM4P+++++++++++20\nM5P+++++++++++21\nM6P+++++++++++22\nM4R+++++++++++23\nM5R+++++++++++24\nM6R+++++++++++25\nM4S+++++++++++26\nM5S+++++++++++27\nM6S+++++++++++28\nM4T+++++++++++29\nM5T+++++++++++30\nM4V+++++++++++31\nM5V+++++++++++32\nM4W+++++++++++33\nM5W+++++++++++34\nM4X+++++++++++35\nM5X+++++++++++36\nM4Y+++++++++++37\nM7Y+++++++++++38\n"
                }
            ],
            "source": "\nall_venues= pd.DataFrame()\n\n\nfor ind in df_final.index:\n\n   \n    lat = str(df_final['Latitude'][ind])\n    lng = str(df_final['Longitude'][ind])\n\n    print(str(df_final['Postal Code'][ind])+ \"+++++++++++\"+ str(ind))\n \n    payload = {'client_id': CLIENT_ID, 'client_secret': CLIENT_SECRET, 'll': lat+','+lng , 'radius':1000, 'v':'20180323'}\n\n    resp = requests.get(fourSqAPIURL,params=payload)\n\n    data = resp.json()\n    \n   # print(data)\n    try:\n        for items in data[\"response\"][\"groups\"][0][\"items\"]:\n           \n            all_venues = all_venues.append(fetch_venue_Details(df_final['Postal Code'][ind],lat,lng,items))\n    except:\n        print(str(df_final['Postal Code'][ind])+ \"-----EMPTY------------\")\n        empty_venue = {'Postal Code':df_final['Postal Code'][ind],'Latitude':lat, 'Longitude':lng,'Type':[],'Name':[]}\n        all_venues.append(pd.DataFrame(empty_venue))"
        },
        {
            "cell_type": "code",
            "execution_count": null,
            "metadata": {},
            "outputs": [],
            "source": ""
        },
        {
            "cell_type": "code",
            "execution_count": null,
            "metadata": {},
            "outputs": [],
            "source": "\n  "
        },
        {
            "cell_type": "code",
            "execution_count": null,
            "metadata": {},
            "outputs": [],
            "source": ""
        },
        {
            "cell_type": "code",
            "execution_count": 11,
            "metadata": {},
            "outputs": [
                {
                    "data": {
                        "text/html": "<div>\n<style scoped>\n    .dataframe tbody tr th:only-of-type {\n        vertical-align: middle;\n    }\n\n    .dataframe tbody tr th {\n        vertical-align: top;\n    }\n\n    .dataframe thead th {\n        text-align: right;\n    }\n</style>\n<table border=\"1\" class=\"dataframe\">\n  <thead>\n    <tr style=\"text-align: right;\">\n      <th></th>\n      <th>Postal Code</th>\n      <th>Latitude</th>\n      <th>Longitude</th>\n      <th>Type</th>\n      <th>Name</th>\n    </tr>\n  </thead>\n  <tbody>\n    <tr>\n      <th>0</th>\n      <td>M5A</td>\n      <td>43.6542599</td>\n      <td>-79.3606359</td>\n      <td>Bakeries</td>\n      <td>Roselle Desserts</td>\n    </tr>\n    <tr>\n      <th>1</th>\n      <td>M5A</td>\n      <td>43.6542599</td>\n      <td>-79.3606359</td>\n      <td>Coffee Shops</td>\n      <td>Tandem Coffee</td>\n    </tr>\n    <tr>\n      <th>2</th>\n      <td>M5A</td>\n      <td>43.6542599</td>\n      <td>-79.3606359</td>\n      <td>Restaurants</td>\n      <td>Impact Kitchen</td>\n    </tr>\n    <tr>\n      <th>3</th>\n      <td>M5A</td>\n      <td>43.6542599</td>\n      <td>-79.3606359</td>\n      <td>Historic Sites</td>\n      <td>The Distillery Historic District</td>\n    </tr>\n    <tr>\n      <th>4</th>\n      <td>M5A</td>\n      <td>43.6542599</td>\n      <td>-79.3606359</td>\n      <td>Parks</td>\n      <td>Corktown Common</td>\n    </tr>\n  </tbody>\n</table>\n</div>",
                        "text/plain": "  Postal Code    Latitude    Longitude            Type  \\\n0         M5A  43.6542599  -79.3606359        Bakeries   \n1         M5A  43.6542599  -79.3606359    Coffee Shops   \n2         M5A  43.6542599  -79.3606359     Restaurants   \n3         M5A  43.6542599  -79.3606359  Historic Sites   \n4         M5A  43.6542599  -79.3606359           Parks   \n\n                               Name  \n0                  Roselle Desserts  \n1                     Tandem Coffee  \n2                    Impact Kitchen  \n3  The Distillery Historic District  \n4                   Corktown Common  "
                    },
                    "execution_count": 11,
                    "metadata": {},
                    "output_type": "execute_result"
                }
            ],
            "source": "\n\nall_venues = all_venues.reset_index(drop=True)\n\n\nall_venues.head()\n#venues.append()\n\n\n#for venue in data[\"response\"][\"groups\"][0][\"items\"][0].items():\n #   venue"
        },
        {
            "cell_type": "code",
            "execution_count": 12,
            "metadata": {},
            "outputs": [],
            "source": "neighbourhood_analysis = pd.get_dummies(all_venues,prefix='',prefix_sep='',columns=['Type'])"
        },
        {
            "cell_type": "code",
            "execution_count": 13,
            "metadata": {},
            "outputs": [
                {
                    "data": {
                        "text/plain": "(1118, 204)"
                    },
                    "execution_count": 13,
                    "metadata": {},
                    "output_type": "execute_result"
                }
            ],
            "source": "neighbourhood_analysis.shape"
        },
        {
            "cell_type": "code",
            "execution_count": 14,
            "metadata": {},
            "outputs": [],
            "source": "mean_data = neighbourhood_analysis.set_index(['Postal Code'])\nmean_data = mean_data.groupby(level='Postal Code').mean()"
        },
        {
            "cell_type": "code",
            "execution_count": 15,
            "metadata": {},
            "outputs": [
                {
                    "data": {
                        "text/html": "<div>\n<style scoped>\n    .dataframe tbody tr th:only-of-type {\n        vertical-align: middle;\n    }\n\n    .dataframe tbody tr th {\n        vertical-align: top;\n    }\n\n    .dataframe thead th {\n        text-align: right;\n    }\n</style>\n<table border=\"1\" class=\"dataframe\">\n  <thead>\n    <tr style=\"text-align: right;\">\n      <th></th>\n      <th>Airport Lounges</th>\n      <th>Airports</th>\n      <th>American Restaurants</th>\n      <th>Amphitheaters</th>\n      <th>Aquariums</th>\n      <th>Art Galleries</th>\n      <th>Art Museums</th>\n      <th>Arts &amp; Crafts Stores</th>\n      <th>Asian Restaurants</th>\n      <th>Athletics &amp; Sports</th>\n      <th>...</th>\n      <th>Theaters</th>\n      <th>Theme Restaurants</th>\n      <th>Toy / Game Stores</th>\n      <th>Tracks</th>\n      <th>Trails</th>\n      <th>Train Stations</th>\n      <th>Vegetarian / Vegan Restaurants</th>\n      <th>Vietnamese Restaurants</th>\n      <th>Wine Bars</th>\n      <th>Yoga Studios</th>\n    </tr>\n    <tr>\n      <th>Postal Code</th>\n      <th></th>\n      <th></th>\n      <th></th>\n      <th></th>\n      <th></th>\n      <th></th>\n      <th></th>\n      <th></th>\n      <th></th>\n      <th></th>\n      <th></th>\n      <th></th>\n      <th></th>\n      <th></th>\n      <th></th>\n      <th></th>\n      <th></th>\n      <th></th>\n      <th></th>\n      <th></th>\n      <th></th>\n    </tr>\n  </thead>\n  <tbody>\n    <tr>\n      <th>M4E</th>\n      <td>0.0</td>\n      <td>0.0</td>\n      <td>0.000000</td>\n      <td>0.0</td>\n      <td>0.0</td>\n      <td>0.0</td>\n      <td>0.0</td>\n      <td>0.0</td>\n      <td>0.000000</td>\n      <td>0.0</td>\n      <td>...</td>\n      <td>0.0</td>\n      <td>0.0</td>\n      <td>0.033333</td>\n      <td>0.0</td>\n      <td>0.033333</td>\n      <td>0.0</td>\n      <td>0.033333</td>\n      <td>0.0</td>\n      <td>0.000000</td>\n      <td>0.000000</td>\n    </tr>\n    <tr>\n      <th>M4K</th>\n      <td>0.0</td>\n      <td>0.0</td>\n      <td>0.000000</td>\n      <td>0.0</td>\n      <td>0.0</td>\n      <td>0.0</td>\n      <td>0.0</td>\n      <td>0.0</td>\n      <td>0.000000</td>\n      <td>0.0</td>\n      <td>...</td>\n      <td>0.0</td>\n      <td>0.0</td>\n      <td>0.000000</td>\n      <td>0.0</td>\n      <td>0.033333</td>\n      <td>0.0</td>\n      <td>0.000000</td>\n      <td>0.0</td>\n      <td>0.000000</td>\n      <td>0.033333</td>\n    </tr>\n    <tr>\n      <th>M4L</th>\n      <td>0.0</td>\n      <td>0.0</td>\n      <td>0.000000</td>\n      <td>0.0</td>\n      <td>0.0</td>\n      <td>0.0</td>\n      <td>0.0</td>\n      <td>0.0</td>\n      <td>0.033333</td>\n      <td>0.0</td>\n      <td>...</td>\n      <td>0.0</td>\n      <td>0.0</td>\n      <td>0.000000</td>\n      <td>0.0</td>\n      <td>0.000000</td>\n      <td>0.0</td>\n      <td>0.000000</td>\n      <td>0.0</td>\n      <td>0.000000</td>\n      <td>0.000000</td>\n    </tr>\n    <tr>\n      <th>M4M</th>\n      <td>0.0</td>\n      <td>0.0</td>\n      <td>0.033333</td>\n      <td>0.0</td>\n      <td>0.0</td>\n      <td>0.0</td>\n      <td>0.0</td>\n      <td>0.0</td>\n      <td>0.000000</td>\n      <td>0.0</td>\n      <td>...</td>\n      <td>0.0</td>\n      <td>0.0</td>\n      <td>0.000000</td>\n      <td>0.0</td>\n      <td>0.000000</td>\n      <td>0.0</td>\n      <td>0.000000</td>\n      <td>0.0</td>\n      <td>0.033333</td>\n      <td>0.000000</td>\n    </tr>\n    <tr>\n      <th>M4N</th>\n      <td>0.0</td>\n      <td>0.0</td>\n      <td>0.000000</td>\n      <td>0.0</td>\n      <td>0.0</td>\n      <td>0.0</td>\n      <td>0.0</td>\n      <td>0.0</td>\n      <td>0.000000</td>\n      <td>0.0</td>\n      <td>...</td>\n      <td>0.0</td>\n      <td>0.0</td>\n      <td>0.000000</td>\n      <td>0.0</td>\n      <td>0.125000</td>\n      <td>0.0</td>\n      <td>0.000000</td>\n      <td>0.0</td>\n      <td>0.000000</td>\n      <td>0.000000</td>\n    </tr>\n  </tbody>\n</table>\n<p>5 rows \u00d7 200 columns</p>\n</div>",
                        "text/plain": "             Airport Lounges  Airports  American Restaurants  Amphitheaters  \\\nPostal Code                                                                   \nM4E                      0.0       0.0              0.000000            0.0   \nM4K                      0.0       0.0              0.000000            0.0   \nM4L                      0.0       0.0              0.000000            0.0   \nM4M                      0.0       0.0              0.033333            0.0   \nM4N                      0.0       0.0              0.000000            0.0   \n\n             Aquariums  Art Galleries  Art Museums  Arts & Crafts Stores  \\\nPostal Code                                                                \nM4E                0.0            0.0          0.0                   0.0   \nM4K                0.0            0.0          0.0                   0.0   \nM4L                0.0            0.0          0.0                   0.0   \nM4M                0.0            0.0          0.0                   0.0   \nM4N                0.0            0.0          0.0                   0.0   \n\n             Asian Restaurants  Athletics & Sports  ...  Theaters  \\\nPostal Code                                         ...             \nM4E                   0.000000                 0.0  ...       0.0   \nM4K                   0.000000                 0.0  ...       0.0   \nM4L                   0.033333                 0.0  ...       0.0   \nM4M                   0.000000                 0.0  ...       0.0   \nM4N                   0.000000                 0.0  ...       0.0   \n\n             Theme Restaurants  Toy / Game Stores  Tracks    Trails  \\\nPostal Code                                                           \nM4E                        0.0           0.033333     0.0  0.033333   \nM4K                        0.0           0.000000     0.0  0.033333   \nM4L                        0.0           0.000000     0.0  0.000000   \nM4M                        0.0           0.000000     0.0  0.000000   \nM4N                        0.0           0.000000     0.0  0.125000   \n\n             Train Stations  Vegetarian / Vegan Restaurants  \\\nPostal Code                                                   \nM4E                     0.0                        0.033333   \nM4K                     0.0                        0.000000   \nM4L                     0.0                        0.000000   \nM4M                     0.0                        0.000000   \nM4N                     0.0                        0.000000   \n\n             Vietnamese Restaurants  Wine Bars  Yoga Studios  \nPostal Code                                                   \nM4E                             0.0   0.000000      0.000000  \nM4K                             0.0   0.000000      0.033333  \nM4L                             0.0   0.000000      0.000000  \nM4M                             0.0   0.033333      0.000000  \nM4N                             0.0   0.000000      0.000000  \n\n[5 rows x 200 columns]"
                    },
                    "execution_count": 15,
                    "metadata": {},
                    "output_type": "execute_result"
                }
            ],
            "source": "mean_data.head()\n\n"
        },
        {
            "cell_type": "code",
            "execution_count": 16,
            "metadata": {},
            "outputs": [],
            "source": "from sklearn.cluster import KMeans\n\n#clusters\nk=4\n"
        },
        {
            "cell_type": "code",
            "execution_count": 17,
            "metadata": {},
            "outputs": [],
            "source": "kmean = KMeans(n_clusters = k, random_state = 0, max_iter =500).fit(mean_data.to_numpy())"
        },
        {
            "cell_type": "code",
            "execution_count": 18,
            "metadata": {},
            "outputs": [
                {
                    "data": {
                        "text/plain": "array([2, 2, 2, 1, 3, 0, 0, 0, 0, 0, 0, 2, 2, 0, 2, 1, 1, 0, 1, 2, 1, 1,\n       0, 0, 1, 2, 1, 0, 1, 1, 1, 0, 2, 1, 1, 2, 1, 2, 2], dtype=int32)"
                    },
                    "execution_count": 18,
                    "metadata": {},
                    "output_type": "execute_result"
                }
            ],
            "source": "kmean.labels_"
        },
        {
            "cell_type": "code",
            "execution_count": 19,
            "metadata": {},
            "outputs": [],
            "source": "mean_data['Segment'] = kmean.labels_"
        },
        {
            "cell_type": "code",
            "execution_count": 25,
            "metadata": {},
            "outputs": [
                {
                    "data": {
                        "text/html": "<div>\n<style scoped>\n    .dataframe tbody tr th:only-of-type {\n        vertical-align: middle;\n    }\n\n    .dataframe tbody tr th {\n        vertical-align: top;\n    }\n\n    .dataframe thead th {\n        text-align: right;\n    }\n</style>\n<table border=\"1\" class=\"dataframe\">\n  <thead>\n    <tr style=\"text-align: right;\">\n      <th></th>\n      <th>Airport Lounges</th>\n      <th>Airports</th>\n      <th>American Restaurants</th>\n      <th>Amphitheaters</th>\n      <th>Aquariums</th>\n      <th>Art Galleries</th>\n      <th>Art Museums</th>\n      <th>Arts &amp; Crafts Stores</th>\n      <th>Asian Restaurants</th>\n      <th>Athletics &amp; Sports</th>\n      <th>...</th>\n      <th>Theme Restaurants</th>\n      <th>Toy / Game Stores</th>\n      <th>Tracks</th>\n      <th>Trails</th>\n      <th>Train Stations</th>\n      <th>Vegetarian / Vegan Restaurants</th>\n      <th>Vietnamese Restaurants</th>\n      <th>Wine Bars</th>\n      <th>Yoga Studios</th>\n      <th>Segment</th>\n    </tr>\n    <tr>\n      <th>Postal Code</th>\n      <th></th>\n      <th></th>\n      <th></th>\n      <th></th>\n      <th></th>\n      <th></th>\n      <th></th>\n      <th></th>\n      <th></th>\n      <th></th>\n      <th></th>\n      <th></th>\n      <th></th>\n      <th></th>\n      <th></th>\n      <th></th>\n      <th></th>\n      <th></th>\n      <th></th>\n      <th></th>\n      <th></th>\n    </tr>\n  </thead>\n  <tbody>\n    <tr>\n      <th>M4N</th>\n      <td>0.0</td>\n      <td>0.0</td>\n      <td>0.0</td>\n      <td>0.0</td>\n      <td>0.0</td>\n      <td>0.0</td>\n      <td>0.0</td>\n      <td>0.0</td>\n      <td>0.0</td>\n      <td>0.0</td>\n      <td>...</td>\n      <td>0.0</td>\n      <td>0.0</td>\n      <td>0.0</td>\n      <td>0.125</td>\n      <td>0.0</td>\n      <td>0.0</td>\n      <td>0.0</td>\n      <td>0.0</td>\n      <td>0.0</td>\n      <td>3</td>\n    </tr>\n  </tbody>\n</table>\n<p>1 rows \u00d7 201 columns</p>\n</div>",
                        "text/plain": "             Airport Lounges  Airports  American Restaurants  Amphitheaters  \\\nPostal Code                                                                   \nM4N                      0.0       0.0                   0.0            0.0   \n\n             Aquariums  Art Galleries  Art Museums  Arts & Crafts Stores  \\\nPostal Code                                                                \nM4N                0.0            0.0          0.0                   0.0   \n\n             Asian Restaurants  Athletics & Sports  ...  Theme Restaurants  \\\nPostal Code                                         ...                      \nM4N                        0.0                 0.0  ...                0.0   \n\n             Toy / Game Stores  Tracks  Trails  Train Stations  \\\nPostal Code                                                      \nM4N                        0.0     0.0   0.125             0.0   \n\n             Vegetarian / Vegan Restaurants  Vietnamese Restaurants  \\\nPostal Code                                                           \nM4N                                     0.0                     0.0   \n\n             Wine Bars  Yoga Studios  Segment  \nPostal Code                                    \nM4N                0.0           0.0        3  \n\n[1 rows x 201 columns]"
                    },
                    "execution_count": 25,
                    "metadata": {},
                    "output_type": "execute_result"
                }
            ],
            "source": "#mean_data=mean_data.reset_index()\n\n#mean_data[mean_data['Segment']==3]\n\n\n#mean_data[mean_data['Postal Code']=='M4E']"
        },
        {
            "cell_type": "markdown",
            "metadata": {},
            "source": "# Plotting the neighbourhoods in colors based on thier segment"
        },
        {
            "cell_type": "code",
            "execution_count": 21,
            "metadata": {},
            "outputs": [],
            "source": "df_merged = pd.merge(df_final,mean_data['Segment'], how='left', on='Postal Code')\n\n"
        },
        {
            "cell_type": "code",
            "execution_count": 22,
            "metadata": {},
            "outputs": [
                {
                    "data": {
                        "text/plain": "Segment\n0    12\n1    14\n2    12\n3     1\nName: Postal Code, dtype: int64"
                    },
                    "execution_count": 22,
                    "metadata": {},
                    "output_type": "execute_result"
                }
            ],
            "source": "df_merged.groupby('Segment').count()['Postal Code']"
        },
        {
            "cell_type": "code",
            "execution_count": 23,
            "metadata": {},
            "outputs": [
                {
                    "name": "stdout",
                    "output_type": "stream",
                    "text": "Requirement already satisfied: folium in /opt/conda/envs/Python36/lib/python3.6/site-packages (0.11.0)\nRequirement already satisfied: numpy in /opt/conda/envs/Python36/lib/python3.6/site-packages (from folium) (1.15.4)\nRequirement already satisfied: branca>=0.3.0 in /opt/conda/envs/Python36/lib/python3.6/site-packages (from folium) (0.4.1)\nRequirement already satisfied: jinja2>=2.9 in /opt/conda/envs/Python36/lib/python3.6/site-packages (from folium) (2.10)\nRequirement already satisfied: requests in /opt/conda/envs/Python36/lib/python3.6/site-packages (from folium) (2.21.0)\nRequirement already satisfied: MarkupSafe>=0.23 in /opt/conda/envs/Python36/lib/python3.6/site-packages (from jinja2>=2.9->folium) (1.1.0)\nRequirement already satisfied: urllib3<1.25,>=1.21.1 in /opt/conda/envs/Python36/lib/python3.6/site-packages (from requests->folium) (1.24.1)\nRequirement already satisfied: idna<2.9,>=2.5 in /opt/conda/envs/Python36/lib/python3.6/site-packages (from requests->folium) (2.8)\nRequirement already satisfied: chardet<3.1.0,>=3.0.2 in /opt/conda/envs/Python36/lib/python3.6/site-packages (from requests->folium) (3.0.4)\nRequirement already satisfied: certifi>=2017.4.17 in /opt/conda/envs/Python36/lib/python3.6/site-packages (from requests->folium) (2020.4.5.1)\n"
                }
            ],
            "source": "!pip install folium"
        },
        {
            "cell_type": "code",
            "execution_count": 24,
            "metadata": {},
            "outputs": [
                {
                    "data": {
                        "text/html": "<div style=\"width:100%;\"><div style=\"position:relative;width:100%;height:0;padding-bottom:60%;\"><span style=\"color:#565656\">Make this Notebook Trusted to load map: File -> Trust Notebook</span><iframe src=\"about:blank\" style=\"position:absolute;width:100%;height:100%;left:0;top:0;border:none !important;\" data-html=PCFET0NUWVBFIGh0bWw+CjxoZWFkPiAgICAKICAgIDxtZXRhIGh0dHAtZXF1aXY9ImNvbnRlbnQtdHlwZSIgY29udGVudD0idGV4dC9odG1sOyBjaGFyc2V0PVVURi04IiAvPgogICAgCiAgICAgICAgPHNjcmlwdD4KICAgICAgICAgICAgTF9OT19UT1VDSCA9IGZhbHNlOwogICAgICAgICAgICBMX0RJU0FCTEVfM0QgPSBmYWxzZTsKICAgICAgICA8L3NjcmlwdD4KICAgIAogICAgPHNjcmlwdCBzcmM9Imh0dHBzOi8vY2RuLmpzZGVsaXZyLm5ldC9ucG0vbGVhZmxldEAxLjYuMC9kaXN0L2xlYWZsZXQuanMiPjwvc2NyaXB0PgogICAgPHNjcmlwdCBzcmM9Imh0dHBzOi8vY29kZS5qcXVlcnkuY29tL2pxdWVyeS0xLjEyLjQubWluLmpzIj48L3NjcmlwdD4KICAgIDxzY3JpcHQgc3JjPSJodHRwczovL21heGNkbi5ib290c3RyYXBjZG4uY29tL2Jvb3RzdHJhcC8zLjIuMC9qcy9ib290c3RyYXAubWluLmpzIj48L3NjcmlwdD4KICAgIDxzY3JpcHQgc3JjPSJodHRwczovL2NkbmpzLmNsb3VkZmxhcmUuY29tL2FqYXgvbGlicy9MZWFmbGV0LmF3ZXNvbWUtbWFya2Vycy8yLjAuMi9sZWFmbGV0LmF3ZXNvbWUtbWFya2Vycy5qcyI+PC9zY3JpcHQ+CiAgICA8bGluayByZWw9InN0eWxlc2hlZXQiIGhyZWY9Imh0dHBzOi8vY2RuLmpzZGVsaXZyLm5ldC9ucG0vbGVhZmxldEAxLjYuMC9kaXN0L2xlYWZsZXQuY3NzIi8+CiAgICA8bGluayByZWw9InN0eWxlc2hlZXQiIGhyZWY9Imh0dHBzOi8vbWF4Y2RuLmJvb3RzdHJhcGNkbi5jb20vYm9vdHN0cmFwLzMuMi4wL2Nzcy9ib290c3RyYXAubWluLmNzcyIvPgogICAgPGxpbmsgcmVsPSJzdHlsZXNoZWV0IiBocmVmPSJodHRwczovL21heGNkbi5ib290c3RyYXBjZG4uY29tL2Jvb3RzdHJhcC8zLjIuMC9jc3MvYm9vdHN0cmFwLXRoZW1lLm1pbi5jc3MiLz4KICAgIDxsaW5rIHJlbD0ic3R5bGVzaGVldCIgaHJlZj0iaHR0cHM6Ly9tYXhjZG4uYm9vdHN0cmFwY2RuLmNvbS9mb250LWF3ZXNvbWUvNC42LjMvY3NzL2ZvbnQtYXdlc29tZS5taW4uY3NzIi8+CiAgICA8bGluayByZWw9InN0eWxlc2hlZXQiIGhyZWY9Imh0dHBzOi8vY2RuanMuY2xvdWRmbGFyZS5jb20vYWpheC9saWJzL0xlYWZsZXQuYXdlc29tZS1tYXJrZXJzLzIuMC4yL2xlYWZsZXQuYXdlc29tZS1tYXJrZXJzLmNzcyIvPgogICAgPGxpbmsgcmVsPSJzdHlsZXNoZWV0IiBocmVmPSJodHRwczovL3Jhd2Nkbi5naXRoYWNrLmNvbS9weXRob24tdmlzdWFsaXphdGlvbi9mb2xpdW0vbWFzdGVyL2ZvbGl1bS90ZW1wbGF0ZXMvbGVhZmxldC5hd2Vzb21lLnJvdGF0ZS5jc3MiLz4KICAgIDxzdHlsZT5odG1sLCBib2R5IHt3aWR0aDogMTAwJTtoZWlnaHQ6IDEwMCU7bWFyZ2luOiAwO3BhZGRpbmc6IDA7fTwvc3R5bGU+CiAgICA8c3R5bGU+I21hcCB7cG9zaXRpb246YWJzb2x1dGU7dG9wOjA7Ym90dG9tOjA7cmlnaHQ6MDtsZWZ0OjA7fTwvc3R5bGU+CiAgICAKICAgICAgICAgICAgPG1ldGEgbmFtZT0idmlld3BvcnQiIGNvbnRlbnQ9IndpZHRoPWRldmljZS13aWR0aCwKICAgICAgICAgICAgICAgIGluaXRpYWwtc2NhbGU9MS4wLCBtYXhpbXVtLXNjYWxlPTEuMCwgdXNlci1zY2FsYWJsZT1ubyIgLz4KICAgICAgICAgICAgPHN0eWxlPgogICAgICAgICAgICAgICAgI21hcF9jMDExNjhlN2Y1MDE0MTdhOTJjNmNkOWUwYzA2NjgwMCB7CiAgICAgICAgICAgICAgICAgICAgcG9zaXRpb246IHJlbGF0aXZlOwogICAgICAgICAgICAgICAgICAgIHdpZHRoOiAxMDAuMCU7CiAgICAgICAgICAgICAgICAgICAgaGVpZ2h0OiAxMDAuMCU7CiAgICAgICAgICAgICAgICAgICAgbGVmdDogMC4wJTsKICAgICAgICAgICAgICAgICAgICB0b3A6IDAuMCU7CiAgICAgICAgICAgICAgICB9CiAgICAgICAgICAgIDwvc3R5bGU+CiAgICAgICAgCjwvaGVhZD4KPGJvZHk+ICAgIAogICAgCiAgICAgICAgICAgIDxkaXYgY2xhc3M9ImZvbGl1bS1tYXAiIGlkPSJtYXBfYzAxMTY4ZTdmNTAxNDE3YTkyYzZjZDllMGMwNjY4MDAiID48L2Rpdj4KICAgICAgICAKPC9ib2R5Pgo8c2NyaXB0PiAgICAKICAgIAogICAgICAgICAgICB2YXIgbWFwX2MwMTE2OGU3ZjUwMTQxN2E5MmM2Y2Q5ZTBjMDY2ODAwID0gTC5tYXAoCiAgICAgICAgICAgICAgICAibWFwX2MwMTE2OGU3ZjUwMTQxN2E5MmM2Y2Q5ZTBjMDY2ODAwIiwKICAgICAgICAgICAgICAgIHsKICAgICAgICAgICAgICAgICAgICBjZW50ZXI6IFs0My42NTEwNywgLTc5LjM0NzAxNV0sCiAgICAgICAgICAgICAgICAgICAgY3JzOiBMLkNSUy5FUFNHMzg1NywKICAgICAgICAgICAgICAgICAgICB6b29tOiAxMiwKICAgICAgICAgICAgICAgICAgICB6b29tQ29udHJvbDogdHJ1ZSwKICAgICAgICAgICAgICAgICAgICBwcmVmZXJDYW52YXM6IGZhbHNlLAogICAgICAgICAgICAgICAgfQogICAgICAgICAgICApOwoKICAgICAgICAgICAgCgogICAgICAgIAogICAgCiAgICAgICAgICAgIHZhciB0aWxlX2xheWVyXzJhNDczNzZmYzczNTRiMWRiZTU3NmZkZTY0ZjExY2MzID0gTC50aWxlTGF5ZXIoCiAgICAgICAgICAgICAgICAiaHR0cHM6Ly97c30udGlsZS5vcGVuc3RyZWV0bWFwLm9yZy97en0ve3h9L3t5fS5wbmciLAogICAgICAgICAgICAgICAgeyJhdHRyaWJ1dGlvbiI6ICJEYXRhIGJ5IFx1MDAyNmNvcHk7IFx1MDAzY2EgaHJlZj1cImh0dHA6Ly9vcGVuc3RyZWV0bWFwLm9yZ1wiXHUwMDNlT3BlblN0cmVldE1hcFx1MDAzYy9hXHUwMDNlLCB1bmRlciBcdTAwM2NhIGhyZWY9XCJodHRwOi8vd3d3Lm9wZW5zdHJlZXRtYXAub3JnL2NvcHlyaWdodFwiXHUwMDNlT0RiTFx1MDAzYy9hXHUwMDNlLiIsICJkZXRlY3RSZXRpbmEiOiBmYWxzZSwgIm1heE5hdGl2ZVpvb20iOiAxOCwgIm1heFpvb20iOiAxOCwgIm1pblpvb20iOiAwLCAibm9XcmFwIjogZmFsc2UsICJvcGFjaXR5IjogMSwgInN1YmRvbWFpbnMiOiAiYWJjIiwgInRtcyI6IGZhbHNlfQogICAgICAgICAgICApLmFkZFRvKG1hcF9jMDExNjhlN2Y1MDE0MTdhOTJjNmNkOWUwYzA2NjgwMCk7CiAgICAgICAgCiAgICAKICAgICAgICAgICAgdmFyIG1hcmtlcl9kNzYxZTI1Mzc3NTY0NDA3OTk3NWVmZmFkMDQ0MDJlYyA9IEwubWFya2VyKAogICAgICAgICAgICAgICAgWzQzLjY1NDI1OTksIC03OS4zNjA2MzU5XSwKICAgICAgICAgICAgICAgIHt9CiAgICAgICAgICAgICkuYWRkVG8obWFwX2MwMTE2OGU3ZjUwMTQxN2E5MmM2Y2Q5ZTBjMDY2ODAwKTsKICAgICAgICAKICAgIAogICAgICAgICAgICB2YXIgZGl2X2ljb25fZDU4ZGM0NDdjN2Y5NGY1NmFiZjY3N2M2ZGE3MGJmNzkgPSBMLmRpdkljb24oeyJjbGFzc05hbWUiOiAiZW1wdHkiLCAiaHRtbCI6ICJcdTAwM2NzdmcgaGVpZ2h0PVwiNTBcIiB3aWR0aD1cIjUwXCJcdTAwM2VcdTAwM2NjaXJjbGUgY3g9XCIxNVwiIGN5PVwiMTVcIiByPVwiMTBcIiBzdHJva2U9XCJ5ZWxsb3dcIiBzdHJva2Utd2lkdGg9XCIzXCIgZmlsbD1cInllbGxvd1wiIC9cdTAwM2VcdTAwM2N0ZXh0IHg9XCIxMFwiIHk9XCIyMFwiIGZpbGw9XCJibGFja1wiXHUwMDNlMFx1MDAzYy90ZXh0XHUwMDNlXHUwMDNjL3N2Z1x1MDAzZSJ9KTsKICAgICAgICAgICAgbWFya2VyX2Q3NjFlMjUzNzc1NjQ0MDc5OTc1ZWZmYWQwNDQwMmVjLnNldEljb24oZGl2X2ljb25fZDU4ZGM0NDdjN2Y5NGY1NmFiZjY3N2M2ZGE3MGJmNzkpOwogICAgICAgIAogICAgCiAgICAgICAgICAgIHZhciBtYXJrZXJfZTU1OGE3M2JhOTc5NDNhMmJmMWVhYjA1YmIxMjA0ZGUgPSBMLm1hcmtlcigKICAgICAgICAgICAgICAgIFs0My42NjIzMDE1LCAtNzkuMzg5NDkzOF0sCiAgICAgICAgICAgICAgICB7fQogICAgICAgICAgICApLmFkZFRvKG1hcF9jMDExNjhlN2Y1MDE0MTdhOTJjNmNkOWUwYzA2NjgwMCk7CiAgICAgICAgCiAgICAKICAgICAgICAgICAgdmFyIGRpdl9pY29uXzczNjI1NzQ2MzFjMzQ3Y2Q4ZjIyZDU2MzM3MGJhMTgzID0gTC5kaXZJY29uKHsiY2xhc3NOYW1lIjogImVtcHR5IiwgImh0bWwiOiAiXHUwMDNjc3ZnIGhlaWdodD1cIjUwXCIgd2lkdGg9XCI1MFwiXHUwMDNlXHUwMDNjY2lyY2xlIGN4PVwiMTVcIiBjeT1cIjE1XCIgcj1cIjEwXCIgc3Ryb2tlPVwieWVsbG93XCIgc3Ryb2tlLXdpZHRoPVwiM1wiIGZpbGw9XCJ5ZWxsb3dcIiAvXHUwMDNlXHUwMDNjdGV4dCB4PVwiMTBcIiB5PVwiMjBcIiBmaWxsPVwiYmxhY2tcIlx1MDAzZTJcdTAwM2MvdGV4dFx1MDAzZVx1MDAzYy9zdmdcdTAwM2UifSk7CiAgICAgICAgICAgIG1hcmtlcl9lNTU4YTczYmE5Nzk0M2EyYmYxZWFiMDViYjEyMDRkZS5zZXRJY29uKGRpdl9pY29uXzczNjI1NzQ2MzFjMzQ3Y2Q4ZjIyZDU2MzM3MGJhMTgzKTsKICAgICAgICAKICAgIAogICAgICAgICAgICB2YXIgbWFya2VyX2YyOWQxY2Y0M2RmMzQ5MjFiZWY0MTZlNWMyZGQ4NmY2ID0gTC5tYXJrZXIoCiAgICAgICAgICAgICAgICBbNDMuNjU3MTYxOCwgLTc5LjM3ODkzNzA5OTk5OTk5XSwKICAgICAgICAgICAgICAgIHt9CiAgICAgICAgICAgICkuYWRkVG8obWFwX2MwMTE2OGU3ZjUwMTQxN2E5MmM2Y2Q5ZTBjMDY2ODAwKTsKICAgICAgICAKICAgIAogICAgICAgICAgICB2YXIgZGl2X2ljb25fNmRjZTc2ZTljOGM3NDAzNDk3NzI3ZWFiNzhiYmMyOWYgPSBMLmRpdkljb24oeyJjbGFzc05hbWUiOiAiZW1wdHkiLCAiaHRtbCI6ICJcdTAwM2NzdmcgaGVpZ2h0PVwiNTBcIiB3aWR0aD1cIjUwXCJcdTAwM2VcdTAwM2NjaXJjbGUgY3g9XCIxNVwiIGN5PVwiMTVcIiByPVwiMTBcIiBzdHJva2U9XCJ5ZWxsb3dcIiBzdHJva2Utd2lkdGg9XCIzXCIgZmlsbD1cInllbGxvd1wiIC9cdTAwM2VcdTAwM2N0ZXh0IHg9XCIxMFwiIHk9XCIyMFwiIGZpbGw9XCJibGFja1wiXHUwMDNlMlx1MDAzYy90ZXh0XHUwMDNlXHUwMDNjL3N2Z1x1MDAzZSJ9KTsKICAgICAgICAgICAgbWFya2VyX2YyOWQxY2Y0M2RmMzQ5MjFiZWY0MTZlNWMyZGQ4NmY2LnNldEljb24oZGl2X2ljb25fNmRjZTc2ZTljOGM3NDAzNDk3NzI3ZWFiNzhiYmMyOWYpOwogICAgICAgIAogICAgCiAgICAgICAgICAgIHZhciBtYXJrZXJfYWNlYjg5OTY2ZjkzNDAwNmI0YTEzNDdkNTE2NTM2M2QgPSBMLm1hcmtlcigKICAgICAgICAgICAgICAgIFs0My42NTE0OTM5LCAtNzkuMzc1NDE3OV0sCiAgICAgICAgICAgICAgICB7fQogICAgICAgICAgICApLmFkZFRvKG1hcF9jMDExNjhlN2Y1MDE0MTdhOTJjNmNkOWUwYzA2NjgwMCk7CiAgICAgICAgCiAgICAKICAgICAgICAgICAgdmFyIGRpdl9pY29uX2U4OTk2NmQwYTE1NzQzMjg5ZTI1NTMyMWQyN2YxYmQ0ID0gTC5kaXZJY29uKHsiY2xhc3NOYW1lIjogImVtcHR5IiwgImh0bWwiOiAiXHUwMDNjc3ZnIGhlaWdodD1cIjUwXCIgd2lkdGg9XCI1MFwiXHUwMDNlXHUwMDNjY2lyY2xlIGN4PVwiMTVcIiBjeT1cIjE1XCIgcj1cIjEwXCIgc3Ryb2tlPVwieWVsbG93XCIgc3Ryb2tlLXdpZHRoPVwiM1wiIGZpbGw9XCJ5ZWxsb3dcIiAvXHUwMDNlXHUwMDNjdGV4dCB4PVwiMTBcIiB5PVwiMjBcIiBmaWxsPVwiYmxhY2tcIlx1MDAzZTFcdTAwM2MvdGV4dFx1MDAzZVx1MDAzYy9zdmdcdTAwM2UifSk7CiAgICAgICAgICAgIG1hcmtlcl9hY2ViODk5NjZmOTM0MDA2YjRhMTM0N2Q1MTY1MzYzZC5zZXRJY29uKGRpdl9pY29uX2U4OTk2NmQwYTE1NzQzMjg5ZTI1NTMyMWQyN2YxYmQ0KTsKICAgICAgICAKICAgIAogICAgICAgICAgICB2YXIgbWFya2VyXzI2Nzk0YzkwNGQzYzRmMDQ4MDRlNTQyODgwNzNkZTU2ID0gTC5tYXJrZXIoCiAgICAgICAgICAgICAgICBbNDMuNjc2MzU3Mzk5OTk5OTksIC03OS4yOTMwMzEyXSwKICAgICAgICAgICAgICAgIHt9CiAgICAgICAgICAgICkuYWRkVG8obWFwX2MwMTE2OGU3ZjUwMTQxN2E5MmM2Y2Q5ZTBjMDY2ODAwKTsKICAgICAgICAKICAgIAogICAgICAgICAgICB2YXIgZGl2X2ljb25fZGIxZTU2ZGNiMzU3NGU2YWE3YjVhMjM5MmYyZDNiMTIgPSBMLmRpdkljb24oeyJjbGFzc05hbWUiOiAiZW1wdHkiLCAiaHRtbCI6ICJcdTAwM2NzdmcgaGVpZ2h0PVwiNTBcIiB3aWR0aD1cIjUwXCJcdTAwM2VcdTAwM2NjaXJjbGUgY3g9XCIxNVwiIGN5PVwiMTVcIiByPVwiMTBcIiBzdHJva2U9XCJ5ZWxsb3dcIiBzdHJva2Utd2lkdGg9XCIzXCIgZmlsbD1cInllbGxvd1wiIC9cdTAwM2VcdTAwM2N0ZXh0IHg9XCIxMFwiIHk9XCIyMFwiIGZpbGw9XCJibGFja1wiXHUwMDNlMlx1MDAzYy90ZXh0XHUwMDNlXHUwMDNjL3N2Z1x1MDAzZSJ9KTsKICAgICAgICAgICAgbWFya2VyXzI2Nzk0YzkwNGQzYzRmMDQ4MDRlNTQyODgwNzNkZTU2LnNldEljb24oZGl2X2ljb25fZGIxZTU2ZGNiMzU3NGU2YWE3YjVhMjM5MmYyZDNiMTIpOwogICAgICAgIAogICAgCiAgICAgICAgICAgIHZhciBtYXJrZXJfYTU1MDg2YjBmMGQxNDA0Y2FlOWI2ZmQyNjM1NWEzM2MgPSBMLm1hcmtlcigKICAgICAgICAgICAgICAgIFs0My42NDQ3NzA3OTk5OTk5OTYsIC03OS4zNzMzMDY0XSwKICAgICAgICAgICAgICAgIHt9CiAgICAgICAgICAgICkuYWRkVG8obWFwX2MwMTE2OGU3ZjUwMTQxN2E5MmM2Y2Q5ZTBjMDY2ODAwKTsKICAgICAgICAKICAgIAogICAgICAgICAgICB2YXIgZGl2X2ljb25fMWM3MDBkMTg0MGQ5NGMzYjgzYjJjZWMyZWFkNjcwYmUgPSBMLmRpdkljb24oeyJjbGFzc05hbWUiOiAiZW1wdHkiLCAiaHRtbCI6ICJcdTAwM2NzdmcgaGVpZ2h0PVwiNTBcIiB3aWR0aD1cIjUwXCJcdTAwM2VcdTAwM2NjaXJjbGUgY3g9XCIxNVwiIGN5PVwiMTVcIiByPVwiMTBcIiBzdHJva2U9XCJ5ZWxsb3dcIiBzdHJva2Utd2lkdGg9XCIzXCIgZmlsbD1cInllbGxvd1wiIC9cdTAwM2VcdTAwM2N0ZXh0IHg9XCIxMFwiIHk9XCIyMFwiIGZpbGw9XCJibGFja1wiXHUwMDNlMVx1MDAzYy90ZXh0XHUwMDNlXHUwMDNjL3N2Z1x1MDAzZSJ9KTsKICAgICAgICAgICAgbWFya2VyX2E1NTA4NmIwZjBkMTQwNGNhZTliNmZkMjYzNTVhMzNjLnNldEljb24oZGl2X2ljb25fMWM3MDBkMTg0MGQ5NGMzYjgzYjJjZWMyZWFkNjcwYmUpOwogICAgICAgIAogICAgCiAgICAgICAgICAgIHZhciBtYXJrZXJfYTBkM2VjY2U1YzllNDRhM2I5N2RjZTAxOTRiZGE5N2YgPSBMLm1hcmtlcigKICAgICAgICAgICAgICAgIFs0My42NTc5NTI0LCAtNzkuMzg3MzgyNl0sCiAgICAgICAgICAgICAgICB7fQogICAgICAgICAgICApLmFkZFRvKG1hcF9jMDExNjhlN2Y1MDE0MTdhOTJjNmNkOWUwYzA2NjgwMCk7CiAgICAgICAgCiAgICAKICAgICAgICAgICAgdmFyIGRpdl9pY29uX2Q0YmU5YmJmZWMzMTRhYzA5ZDI4ZTkwYzZiOWVlNzk4ID0gTC5kaXZJY29uKHsiY2xhc3NOYW1lIjogImVtcHR5IiwgImh0bWwiOiAiXHUwMDNjc3ZnIGhlaWdodD1cIjUwXCIgd2lkdGg9XCI1MFwiXHUwMDNlXHUwMDNjY2lyY2xlIGN4PVwiMTVcIiBjeT1cIjE1XCIgcj1cIjEwXCIgc3Ryb2tlPVwieWVsbG93XCIgc3Ryb2tlLXdpZHRoPVwiM1wiIGZpbGw9XCJ5ZWxsb3dcIiAvXHUwMDNlXHUwMDNjdGV4dCB4PVwiMTBcIiB5PVwiMjBcIiBmaWxsPVwiYmxhY2tcIlx1MDAzZTBcdTAwM2MvdGV4dFx1MDAzZVx1MDAzYy9zdmdcdTAwM2UifSk7CiAgICAgICAgICAgIG1hcmtlcl9hMGQzZWNjZTVjOWU0NGEzYjk3ZGNlMDE5NGJkYTk3Zi5zZXRJY29uKGRpdl9pY29uX2Q0YmU5YmJmZWMzMTRhYzA5ZDI4ZTkwYzZiOWVlNzk4KTsKICAgICAgICAKICAgIAogICAgICAgICAgICB2YXIgbWFya2VyXzRlMWU1NmIxNTE2OTRhMjQ5OThkYzU2NDRkOTM0NmZiID0gTC5tYXJrZXIoCiAgICAgICAgICAgICAgICBbNDMuNjY5NTQyLCAtNzkuNDIyNTYzN10sCiAgICAgICAgICAgICAgICB7fQogICAgICAgICAgICApLmFkZFRvKG1hcF9jMDExNjhlN2Y1MDE0MTdhOTJjNmNkOWUwYzA2NjgwMCk7CiAgICAgICAgCiAgICAKICAgICAgICAgICAgdmFyIGRpdl9pY29uX2YyOWU5OTZkNDg0MjQ2MmZhOGI4YTVjMWE5ZTQ1ZTA2ID0gTC5kaXZJY29uKHsiY2xhc3NOYW1lIjogImVtcHR5IiwgImh0bWwiOiAiXHUwMDNjc3ZnIGhlaWdodD1cIjUwXCIgd2lkdGg9XCI1MFwiXHUwMDNlXHUwMDNjY2lyY2xlIGN4PVwiMTVcIiBjeT1cIjE1XCIgcj1cIjEwXCIgc3Ryb2tlPVwieWVsbG93XCIgc3Ryb2tlLXdpZHRoPVwiM1wiIGZpbGw9XCJ5ZWxsb3dcIiAvXHUwMDNlXHUwMDNjdGV4dCB4PVwiMTBcIiB5PVwiMjBcIiBmaWxsPVwiYmxhY2tcIlx1MDAzZTFcdTAwM2MvdGV4dFx1MDAzZVx1MDAzYy9zdmdcdTAwM2UifSk7CiAgICAgICAgICAgIG1hcmtlcl80ZTFlNTZiMTUxNjk0YTI0OTk4ZGM1NjQ0ZDkzNDZmYi5zZXRJY29uKGRpdl9pY29uX2YyOWU5OTZkNDg0MjQ2MmZhOGI4YTVjMWE5ZTQ1ZTA2KTsKICAgICAgICAKICAgIAogICAgICAgICAgICB2YXIgbWFya2VyX2RkNGVjNGUyYTgxZTRlNzdiMDE1NmNmMDc1ZmYzZmUwID0gTC5tYXJrZXIoCiAgICAgICAgICAgICAgICBbNDMuNjUwNTcxMjAwMDAwMDEsIC03OS4zODQ1Njc1XSwKICAgICAgICAgICAgICAgIHt9CiAgICAgICAgICAgICkuYWRkVG8obWFwX2MwMTE2OGU3ZjUwMTQxN2E5MmM2Y2Q5ZTBjMDY2ODAwKTsKICAgICAgICAKICAgIAogICAgICAgICAgICB2YXIgZGl2X2ljb25fNmE4ZmI2NzQwOWQ3NDYwYmE0NjVjMjVmODFhMzA0OTYgPSBMLmRpdkljb24oeyJjbGFzc05hbWUiOiAiZW1wdHkiLCAiaHRtbCI6ICJcdTAwM2NzdmcgaGVpZ2h0PVwiNTBcIiB3aWR0aD1cIjUwXCJcdTAwM2VcdTAwM2NjaXJjbGUgY3g9XCIxNVwiIGN5PVwiMTVcIiByPVwiMTBcIiBzdHJva2U9XCJ5ZWxsb3dcIiBzdHJva2Utd2lkdGg9XCIzXCIgZmlsbD1cInllbGxvd1wiIC9cdTAwM2VcdTAwM2N0ZXh0IHg9XCIxMFwiIHk9XCIyMFwiIGZpbGw9XCJibGFja1wiXHUwMDNlMVx1MDAzYy90ZXh0XHUwMDNlXHUwMDNjL3N2Z1x1MDAzZSJ9KTsKICAgICAgICAgICAgbWFya2VyX2RkNGVjNGUyYTgxZTRlNzdiMDE1NmNmMDc1ZmYzZmUwLnNldEljb24oZGl2X2ljb25fNmE4ZmI2NzQwOWQ3NDYwYmE0NjVjMjVmODFhMzA0OTYpOwogICAgICAgIAogICAgCiAgICAgICAgICAgIHZhciBtYXJrZXJfMTI4NTJiNDg2OGYwNGVkZjk2MWFkYWU0OTA2MzgyOTggPSBMLm1hcmtlcigKICAgICAgICAgICAgICAgIFs0My42NjkwMDUxMDAwMDAwMSwgLTc5LjQ0MjI1OTNdLAogICAgICAgICAgICAgICAge30KICAgICAgICAgICAgKS5hZGRUbyhtYXBfYzAxMTY4ZTdmNTAxNDE3YTkyYzZjZDllMGMwNjY4MDApOwogICAgICAgIAogICAgCiAgICAgICAgICAgIHZhciBkaXZfaWNvbl9kZTRkMTljOTE2ZmI0ZDc5YmM0MDZlMzk1YTM2MmVjMSA9IEwuZGl2SWNvbih7ImNsYXNzTmFtZSI6ICJlbXB0eSIsICJodG1sIjogIlx1MDAzY3N2ZyBoZWlnaHQ9XCI1MFwiIHdpZHRoPVwiNTBcIlx1MDAzZVx1MDAzY2NpcmNsZSBjeD1cIjE1XCIgY3k9XCIxNVwiIHI9XCIxMFwiIHN0cm9rZT1cInllbGxvd1wiIHN0cm9rZS13aWR0aD1cIjNcIiBmaWxsPVwieWVsbG93XCIgL1x1MDAzZVx1MDAzY3RleHQgeD1cIjEwXCIgeT1cIjIwXCIgZmlsbD1cImJsYWNrXCJcdTAwM2UwXHUwMDNjL3RleHRcdTAwM2VcdTAwM2Mvc3ZnXHUwMDNlIn0pOwogICAgICAgICAgICBtYXJrZXJfMTI4NTJiNDg2OGYwNGVkZjk2MWFkYWU0OTA2MzgyOTguc2V0SWNvbihkaXZfaWNvbl9kZTRkMTljOTE2ZmI0ZDc5YmM0MDZlMzk1YTM2MmVjMSk7CiAgICAgICAgCiAgICAKICAgICAgICAgICAgdmFyIG1hcmtlcl9kNDZjNzc2MmE2ZTI0MGZhOTQ2OWJkZWY5MTZmZjNlMyA9IEwubWFya2VyKAogICAgICAgICAgICAgICAgWzQzLjY0MDgxNTcsIC03OS4zODE3NTIyOTk5OTk5OV0sCiAgICAgICAgICAgICAgICB7fQogICAgICAgICAgICApLmFkZFRvKG1hcF9jMDExNjhlN2Y1MDE0MTdhOTJjNmNkOWUwYzA2NjgwMCk7CiAgICAgICAgCiAgICAKICAgICAgICAgICAgdmFyIGRpdl9pY29uX2Q5NjAwZmMyMWUxZDRjMDI4ODRiYWMwM2NhNzA0MmQxID0gTC5kaXZJY29uKHsiY2xhc3NOYW1lIjogImVtcHR5IiwgImh0bWwiOiAiXHUwMDNjc3ZnIGhlaWdodD1cIjUwXCIgd2lkdGg9XCI1MFwiXHUwMDNlXHUwMDNjY2lyY2xlIGN4PVwiMTVcIiBjeT1cIjE1XCIgcj1cIjEwXCIgc3Ryb2tlPVwieWVsbG93XCIgc3Ryb2tlLXdpZHRoPVwiM1wiIGZpbGw9XCJ5ZWxsb3dcIiAvXHUwMDNlXHUwMDNjdGV4dCB4PVwiMTBcIiB5PVwiMjBcIiBmaWxsPVwiYmxhY2tcIlx1MDAzZTJcdTAwM2MvdGV4dFx1MDAzZVx1MDAzYy9zdmdcdTAwM2UifSk7CiAgICAgICAgICAgIG1hcmtlcl9kNDZjNzc2MmE2ZTI0MGZhOTQ2OWJkZWY5MTZmZjNlMy5zZXRJY29uKGRpdl9pY29uX2Q5NjAwZmMyMWUxZDRjMDI4ODRiYWMwM2NhNzA0MmQxKTsKICAgICAgICAKICAgIAogICAgICAgICAgICB2YXIgbWFya2VyXzkwMjJkMmQ5OWIzMjRhMDA5MmY4ODc1MDI0NGUzNGQ0ID0gTC5tYXJrZXIoCiAgICAgICAgICAgICAgICBbNDMuNjQ3OTI2NzAwMDAwMDA2LCAtNzkuNDE5NzQ5N10sCiAgICAgICAgICAgICAgICB7fQogICAgICAgICAgICApLmFkZFRvKG1hcF9jMDExNjhlN2Y1MDE0MTdhOTJjNmNkOWUwYzA2NjgwMCk7CiAgICAgICAgCiAgICAKICAgICAgICAgICAgdmFyIGRpdl9pY29uXzk1NjBmMzY3ZGExZjRiNTk4NDZiNjI3MDVmMzFjNzVkID0gTC5kaXZJY29uKHsiY2xhc3NOYW1lIjogImVtcHR5IiwgImh0bWwiOiAiXHUwMDNjc3ZnIGhlaWdodD1cIjUwXCIgd2lkdGg9XCI1MFwiXHUwMDNlXHUwMDNjY2lyY2xlIGN4PVwiMTVcIiBjeT1cIjE1XCIgcj1cIjEwXCIgc3Ryb2tlPVwieWVsbG93XCIgc3Ryb2tlLXdpZHRoPVwiM1wiIGZpbGw9XCJ5ZWxsb3dcIiAvXHUwMDNlXHUwMDNjdGV4dCB4PVwiMTBcIiB5PVwiMjBcIiBmaWxsPVwiYmxhY2tcIlx1MDAzZTJcdTAwM2MvdGV4dFx1MDAzZVx1MDAzYy9zdmdcdTAwM2UifSk7CiAgICAgICAgICAgIG1hcmtlcl85MDIyZDJkOTliMzI0YTAwOTJmODg3NTAyNDRlMzRkNC5zZXRJY29uKGRpdl9pY29uXzk1NjBmMzY3ZGExZjRiNTk4NDZiNjI3MDVmMzFjNzVkKTsKICAgICAgICAKICAgIAogICAgICAgICAgICB2YXIgbWFya2VyX2VjMWMxZTllNzAxNjQyOGZhMTYzZjc3NWMyZmU1NjJmID0gTC5tYXJrZXIoCiAgICAgICAgICAgICAgICBbNDMuNjc5NTU3MSwgLTc5LjM1MjE4OF0sCiAgICAgICAgICAgICAgICB7fQogICAgICAgICAgICApLmFkZFRvKG1hcF9jMDExNjhlN2Y1MDE0MTdhOTJjNmNkOWUwYzA2NjgwMCk7CiAgICAgICAgCiAgICAKICAgICAgICAgICAgdmFyIGRpdl9pY29uX2I5MDJjYjNiZjY5ODRiOTFhYThiNmIwOGMzNzVjNWQ1ID0gTC5kaXZJY29uKHsiY2xhc3NOYW1lIjogImVtcHR5IiwgImh0bWwiOiAiXHUwMDNjc3ZnIGhlaWdodD1cIjUwXCIgd2lkdGg9XCI1MFwiXHUwMDNlXHUwMDNjY2lyY2xlIGN4PVwiMTVcIiBjeT1cIjE1XCIgcj1cIjEwXCIgc3Ryb2tlPVwieWVsbG93XCIgc3Ryb2tlLXdpZHRoPVwiM1wiIGZpbGw9XCJ5ZWxsb3dcIiAvXHUwMDNlXHUwMDNjdGV4dCB4PVwiMTBcIiB5PVwiMjBcIiBmaWxsPVwiYmxhY2tcIlx1MDAzZTJcdTAwM2MvdGV4dFx1MDAzZVx1MDAzYy9zdmdcdTAwM2UifSk7CiAgICAgICAgICAgIG1hcmtlcl9lYzFjMWU5ZTcwMTY0MjhmYTE2M2Y3NzVjMmZlNTYyZi5zZXRJY29uKGRpdl9pY29uX2I5MDJjYjNiZjY5ODRiOTFhYThiNmIwOGMzNzVjNWQ1KTsKICAgICAgICAKICAgIAogICAgICAgICAgICB2YXIgbWFya2VyXzliYTQ4YjJjMTA3NTRiNjViMGY0MWMzNzZmMmJjMjEzID0gTC5tYXJrZXIoCiAgICAgICAgICAgICAgICBbNDMuNjQ3MTc2OCwgLTc5LjM4MTU3NjQwMDAwMDAxXSwKICAgICAgICAgICAgICAgIHt9CiAgICAgICAgICAgICkuYWRkVG8obWFwX2MwMTE2OGU3ZjUwMTQxN2E5MmM2Y2Q5ZTBjMDY2ODAwKTsKICAgICAgICAKICAgIAogICAgICAgICAgICB2YXIgZGl2X2ljb25fZGQxNGUwZmNlNGIxNGQ3M2EyYzY5MjMyMDUyMDhhMzcgPSBMLmRpdkljb24oeyJjbGFzc05hbWUiOiAiZW1wdHkiLCAiaHRtbCI6ICJcdTAwM2NzdmcgaGVpZ2h0PVwiNTBcIiB3aWR0aD1cIjUwXCJcdTAwM2VcdTAwM2NjaXJjbGUgY3g9XCIxNVwiIGN5PVwiMTVcIiByPVwiMTBcIiBzdHJva2U9XCJ5ZWxsb3dcIiBzdHJva2Utd2lkdGg9XCIzXCIgZmlsbD1cInllbGxvd1wiIC9cdTAwM2VcdTAwM2N0ZXh0IHg9XCIxMFwiIHk9XCIyMFwiIGZpbGw9XCJibGFja1wiXHUwMDNlMVx1MDAzYy90ZXh0XHUwMDNlXHUwMDNjL3N2Z1x1MDAzZSJ9KTsKICAgICAgICAgICAgbWFya2VyXzliYTQ4YjJjMTA3NTRiNjViMGY0MWMzNzZmMmJjMjEzLnNldEljb24oZGl2X2ljb25fZGQxNGUwZmNlNGIxNGQ3M2EyYzY5MjMyMDUyMDhhMzcpOwogICAgICAgIAogICAgCiAgICAgICAgICAgIHZhciBtYXJrZXJfNjFiMTg0MjdlMjE4NGUzYWJiNGQ2ZjlmYzcyYmNlOWYgPSBMLm1hcmtlcigKICAgICAgICAgICAgICAgIFs0My42MzY4NDcyLCAtNzkuNDI4MTkxNDAwMDAwMDJdLAogICAgICAgICAgICAgICAge30KICAgICAgICAgICAgKS5hZGRUbyhtYXBfYzAxMTY4ZTdmNTAxNDE3YTkyYzZjZDllMGMwNjY4MDApOwogICAgICAgIAogICAgCiAgICAgICAgICAgIHZhciBkaXZfaWNvbl84MWYxYzNhZGQxMmI0MmFjODI0OTdmYjE2MWIyYzU1MyA9IEwuZGl2SWNvbih7ImNsYXNzTmFtZSI6ICJlbXB0eSIsICJodG1sIjogIlx1MDAzY3N2ZyBoZWlnaHQ9XCI1MFwiIHdpZHRoPVwiNTBcIlx1MDAzZVx1MDAzY2NpcmNsZSBjeD1cIjE1XCIgY3k9XCIxNVwiIHI9XCIxMFwiIHN0cm9rZT1cInllbGxvd1wiIHN0cm9rZS13aWR0aD1cIjNcIiBmaWxsPVwieWVsbG93XCIgL1x1MDAzZVx1MDAzY3RleHQgeD1cIjEwXCIgeT1cIjIwXCIgZmlsbD1cImJsYWNrXCJcdTAwM2UxXHUwMDNjL3RleHRcdTAwM2VcdTAwM2Mvc3ZnXHUwMDNlIn0pOwogICAgICAgICAgICBtYXJrZXJfNjFiMTg0MjdlMjE4NGUzYWJiNGQ2ZjlmYzcyYmNlOWYuc2V0SWNvbihkaXZfaWNvbl84MWYxYzNhZGQxMmI0MmFjODI0OTdmYjE2MWIyYzU1Myk7CiAgICAgICAgCiAgICAKICAgICAgICAgICAgdmFyIG1hcmtlcl9hNWUzZDIxYjkwMzk0NGRkYTkyNDQxNTA3YmUzZWJhYyA9IEwubWFya2VyKAogICAgICAgICAgICAgICAgWzQzLjY2ODk5ODUsIC03OS4zMTU1NzE1OTk5OTk5OF0sCiAgICAgICAgICAgICAgICB7fQogICAgICAgICAgICApLmFkZFRvKG1hcF9jMDExNjhlN2Y1MDE0MTdhOTJjNmNkOWUwYzA2NjgwMCk7CiAgICAgICAgCiAgICAKICAgICAgICAgICAgdmFyIGRpdl9pY29uX2QzNWY1MGE5ODk4NDRiNThhNGY0ZjJkYTUyNmU5NGY0ID0gTC5kaXZJY29uKHsiY2xhc3NOYW1lIjogImVtcHR5IiwgImh0bWwiOiAiXHUwMDNjc3ZnIGhlaWdodD1cIjUwXCIgd2lkdGg9XCI1MFwiXHUwMDNlXHUwMDNjY2lyY2xlIGN4PVwiMTVcIiBjeT1cIjE1XCIgcj1cIjEwXCIgc3Ryb2tlPVwieWVsbG93XCIgc3Ryb2tlLXdpZHRoPVwiM1wiIGZpbGw9XCJ5ZWxsb3dcIiAvXHUwMDNlXHUwMDNjdGV4dCB4PVwiMTBcIiB5PVwiMjBcIiBmaWxsPVwiYmxhY2tcIlx1MDAzZTJcdTAwM2MvdGV4dFx1MDAzZVx1MDAzYy9zdmdcdTAwM2UifSk7CiAgICAgICAgICAgIG1hcmtlcl9hNWUzZDIxYjkwMzk0NGRkYTkyNDQxNTA3YmUzZWJhYy5zZXRJY29uKGRpdl9pY29uX2QzNWY1MGE5ODk4NDRiNThhNGY0ZjJkYTUyNmU5NGY0KTsKICAgICAgICAKICAgIAogICAgICAgICAgICB2YXIgbWFya2VyX2UzMmNmYjE5ZTBjOTRjYjhiZTljZGU1ZjFjMWQxOTdmID0gTC5tYXJrZXIoCiAgICAgICAgICAgICAgICBbNDMuNjQ4MTk4NSwgLTc5LjM3OTgxNjkwMDAwMDAxXSwKICAgICAgICAgICAgICAgIHt9CiAgICAgICAgICAgICkuYWRkVG8obWFwX2MwMTE2OGU3ZjUwMTQxN2E5MmM2Y2Q5ZTBjMDY2ODAwKTsKICAgICAgICAKICAgIAogICAgICAgICAgICB2YXIgZGl2X2ljb25fNTllZjZmM2FiODFhNDVjMThiOWQyZDg2MzIwZTQ2MTggPSBMLmRpdkljb24oeyJjbGFzc05hbWUiOiAiZW1wdHkiLCAiaHRtbCI6ICJcdTAwM2NzdmcgaGVpZ2h0PVwiNTBcIiB3aWR0aD1cIjUwXCJcdTAwM2VcdTAwM2NjaXJjbGUgY3g9XCIxNVwiIGN5PVwiMTVcIiByPVwiMTBcIiBzdHJva2U9XCJ5ZWxsb3dcIiBzdHJva2Utd2lkdGg9XCIzXCIgZmlsbD1cInllbGxvd1wiIC9cdTAwM2VcdTAwM2N0ZXh0IHg9XCIxMFwiIHk9XCIyMFwiIGZpbGw9XCJibGFja1wiXHUwMDNlMVx1MDAzYy90ZXh0XHUwMDNlXHUwMDNjL3N2Z1x1MDAzZSJ9KTsKICAgICAgICAgICAgbWFya2VyX2UzMmNmYjE5ZTBjOTRjYjhiZTljZGU1ZjFjMWQxOTdmLnNldEljb24oZGl2X2ljb25fNTllZjZmM2FiODFhNDVjMThiOWQyZDg2MzIwZTQ2MTgpOwogICAgICAgIAogICAgCiAgICAgICAgICAgIHZhciBtYXJrZXJfNWQ2N2NhZmM4ZmU4NDkzNDk1MGE1MjQwNjE1MWZmMGQgPSBMLm1hcmtlcigKICAgICAgICAgICAgICAgIFs0My42NTk1MjU1LCAtNzkuMzQwOTIzXSwKICAgICAgICAgICAgICAgIHt9CiAgICAgICAgICAgICkuYWRkVG8obWFwX2MwMTE2OGU3ZjUwMTQxN2E5MmM2Y2Q5ZTBjMDY2ODAwKTsKICAgICAgICAKICAgIAogICAgICAgICAgICB2YXIgZGl2X2ljb25fZmZjOWQ4ZjczOTdhNGM2NTk0ZDQ5YzY2YWNjOWU4MWQgPSBMLmRpdkljb24oeyJjbGFzc05hbWUiOiAiZW1wdHkiLCAiaHRtbCI6ICJcdTAwM2NzdmcgaGVpZ2h0PVwiNTBcIiB3aWR0aD1cIjUwXCJcdTAwM2VcdTAwM2NjaXJjbGUgY3g9XCIxNVwiIGN5PVwiMTVcIiByPVwiMTBcIiBzdHJva2U9XCJ5ZWxsb3dcIiBzdHJva2Utd2lkdGg9XCIzXCIgZmlsbD1cInllbGxvd1wiIC9cdTAwM2VcdTAwM2N0ZXh0IHg9XCIxMFwiIHk9XCIyMFwiIGZpbGw9XCJibGFja1wiXHUwMDNlMVx1MDAzYy90ZXh0XHUwMDNlXHUwMDNjL3N2Z1x1MDAzZSJ9KTsKICAgICAgICAgICAgbWFya2VyXzVkNjdjYWZjOGZlODQ5MzQ5NTBhNTI0MDYxNTFmZjBkLnNldEljb24oZGl2X2ljb25fZmZjOWQ4ZjczOTdhNGM2NTk0ZDQ5YzY2YWNjOWU4MWQpOwogICAgICAgIAogICAgCiAgICAgICAgICAgIHZhciBtYXJrZXJfY2JiNTE0NDdkOWZjNDUzYmJlMzBjMGU0MWI2MWYxZmIgPSBMLm1hcmtlcigKICAgICAgICAgICAgICAgIFs0My43MjgwMjA1LCAtNzkuMzg4NzkwMV0sCiAgICAgICAgICAgICAgICB7fQogICAgICAgICAgICApLmFkZFRvKG1hcF9jMDExNjhlN2Y1MDE0MTdhOTJjNmNkOWUwYzA2NjgwMCk7CiAgICAgICAgCiAgICAKICAgICAgICAgICAgdmFyIGRpdl9pY29uXzE5NTdiZjU3YzZmYzQwYjc4ODhhYzZiZjlkOTE4NDhkID0gTC5kaXZJY29uKHsiY2xhc3NOYW1lIjogImVtcHR5IiwgImh0bWwiOiAiXHUwMDNjc3ZnIGhlaWdodD1cIjUwXCIgd2lkdGg9XCI1MFwiXHUwMDNlXHUwMDNjY2lyY2xlIGN4PVwiMTVcIiBjeT1cIjE1XCIgcj1cIjEwXCIgc3Ryb2tlPVwieWVsbG93XCIgc3Ryb2tlLXdpZHRoPVwiM1wiIGZpbGw9XCJ5ZWxsb3dcIiAvXHUwMDNlXHUwMDNjdGV4dCB4PVwiMTBcIiB5PVwiMjBcIiBmaWxsPVwiYmxhY2tcIlx1MDAzZTNcdTAwM2MvdGV4dFx1MDAzZVx1MDAzYy9zdmdcdTAwM2UifSk7CiAgICAgICAgICAgIG1hcmtlcl9jYmI1MTQ0N2Q5ZmM0NTNiYmUzMGMwZTQxYjYxZjFmYi5zZXRJY29uKGRpdl9pY29uXzE5NTdiZjU3YzZmYzQwYjc4ODhhYzZiZjlkOTE4NDhkKTsKICAgICAgICAKICAgIAogICAgICAgICAgICB2YXIgbWFya2VyXzUzYTgxMzkzNGI2YzQyOTViM2FmNDIwMTI5Y2ZmYTQ4ID0gTC5tYXJrZXIoCiAgICAgICAgICAgICAgICBbNDMuNzExNjk0OCwgLTc5LjQxNjkzNTU5OTk5OTk5XSwKICAgICAgICAgICAgICAgIHt9CiAgICAgICAgICAgICkuYWRkVG8obWFwX2MwMTE2OGU3ZjUwMTQxN2E5MmM2Y2Q5ZTBjMDY2ODAwKTsKICAgICAgICAKICAgIAogICAgICAgICAgICB2YXIgZGl2X2ljb25fNTY2ZTIwZjU3ZTA3NDRjZjk2MjdhMTc4NmQ2NGY5MDkgPSBMLmRpdkljb24oeyJjbGFzc05hbWUiOiAiZW1wdHkiLCAiaHRtbCI6ICJcdTAwM2NzdmcgaGVpZ2h0PVwiNTBcIiB3aWR0aD1cIjUwXCJcdTAwM2VcdTAwM2NjaXJjbGUgY3g9XCIxNVwiIGN5PVwiMTVcIiByPVwiMTBcIiBzdHJva2U9XCJ5ZWxsb3dcIiBzdHJva2Utd2lkdGg9XCIzXCIgZmlsbD1cInllbGxvd1wiIC9cdTAwM2VcdTAwM2N0ZXh0IHg9XCIxMFwiIHk9XCIyMFwiIGZpbGw9XCJibGFja1wiXHUwMDNlMFx1MDAzYy90ZXh0XHUwMDNlXHUwMDNjL3N2Z1x1MDAzZSJ9KTsKICAgICAgICAgICAgbWFya2VyXzUzYTgxMzkzNGI2YzQyOTViM2FmNDIwMTI5Y2ZmYTQ4LnNldEljb24oZGl2X2ljb25fNTY2ZTIwZjU3ZTA3NDRjZjk2MjdhMTc4NmQ2NGY5MDkpOwogICAgICAgIAogICAgCiAgICAgICAgICAgIHZhciBtYXJrZXJfYjJhODZmZWI1NGZiNGZlNjhjMWJlMjNlNzc3ZjhmMzcgPSBMLm1hcmtlcigKICAgICAgICAgICAgICAgIFs0My43MTI3NTExLCAtNzkuMzkwMTk3NV0sCiAgICAgICAgICAgICAgICB7fQogICAgICAgICAgICApLmFkZFRvKG1hcF9jMDExNjhlN2Y1MDE0MTdhOTJjNmNkOWUwYzA2NjgwMCk7CiAgICAgICAgCiAgICAKICAgICAgICAgICAgdmFyIGRpdl9pY29uXzE4YTM4ZDE3ZTMxODQ2ZjQ4M2QwYzMwZjQwNTU0NjI4ID0gTC5kaXZJY29uKHsiY2xhc3NOYW1lIjogImVtcHR5IiwgImh0bWwiOiAiXHUwMDNjc3ZnIGhlaWdodD1cIjUwXCIgd2lkdGg9XCI1MFwiXHUwMDNlXHUwMDNjY2lyY2xlIGN4PVwiMTVcIiBjeT1cIjE1XCIgcj1cIjEwXCIgc3Ryb2tlPVwieWVsbG93XCIgc3Ryb2tlLXdpZHRoPVwiM1wiIGZpbGw9XCJ5ZWxsb3dcIiAvXHUwMDNlXHUwMDNjdGV4dCB4PVwiMTBcIiB5PVwiMjBcIiBmaWxsPVwiYmxhY2tcIlx1MDAzZTBcdTAwM2MvdGV4dFx1MDAzZVx1MDAzYy9zdmdcdTAwM2UifSk7CiAgICAgICAgICAgIG1hcmtlcl9iMmE4NmZlYjU0ZmI0ZmU2OGMxYmUyM2U3NzdmOGYzNy5zZXRJY29uKGRpdl9pY29uXzE4YTM4ZDE3ZTMxODQ2ZjQ4M2QwYzMwZjQwNTU0NjI4KTsKICAgICAgICAKICAgIAogICAgICAgICAgICB2YXIgbWFya2VyX2JhMzRhMDVkY2ViODQ4YzRiOTk0Y2E3MjM2MmIxNDkyID0gTC5tYXJrZXIoCiAgICAgICAgICAgICAgICBbNDMuNjk2OTQ3NiwgLTc5LjQxMTMwNzIwMDAwMDAxXSwKICAgICAgICAgICAgICAgIHt9CiAgICAgICAgICAgICkuYWRkVG8obWFwX2MwMTE2OGU3ZjUwMTQxN2E5MmM2Y2Q5ZTBjMDY2ODAwKTsKICAgICAgICAKICAgIAogICAgICAgICAgICB2YXIgZGl2X2ljb25fNjcwYzcwZDM2YjgxNGFiODhhZWYzMGJiNzQzODcwNzIgPSBMLmRpdkljb24oeyJjbGFzc05hbWUiOiAiZW1wdHkiLCAiaHRtbCI6ICJcdTAwM2NzdmcgaGVpZ2h0PVwiNTBcIiB3aWR0aD1cIjUwXCJcdTAwM2VcdTAwM2NjaXJjbGUgY3g9XCIxNVwiIGN5PVwiMTVcIiByPVwiMTBcIiBzdHJva2U9XCJ5ZWxsb3dcIiBzdHJva2Utd2lkdGg9XCIzXCIgZmlsbD1cInllbGxvd1wiIC9cdTAwM2VcdTAwM2N0ZXh0IHg9XCIxMFwiIHk9XCIyMFwiIGZpbGw9XCJibGFja1wiXHUwMDNlMFx1MDAzYy90ZXh0XHUwMDNlXHUwMDNjL3N2Z1x1MDAzZSJ9KTsKICAgICAgICAgICAgbWFya2VyX2JhMzRhMDVkY2ViODQ4YzRiOTk0Y2E3MjM2MmIxNDkyLnNldEljb24oZGl2X2ljb25fNjcwYzcwZDM2YjgxNGFiODhhZWYzMGJiNzQzODcwNzIpOwogICAgICAgIAogICAgCiAgICAgICAgICAgIHZhciBtYXJrZXJfYWM5NDBhYjdhYjNlNDUyMGIwNzU1Y2E2ZWJjM2QxMGEgPSBMLm1hcmtlcigKICAgICAgICAgICAgICAgIFs0My42NjE2MDgzLCAtNzkuNDY0NzYzMjk5OTk5OTldLAogICAgICAgICAgICAgICAge30KICAgICAgICAgICAgKS5hZGRUbyhtYXBfYzAxMTY4ZTdmNTAxNDE3YTkyYzZjZDllMGMwNjY4MDApOwogICAgICAgIAogICAgCiAgICAgICAgICAgIHZhciBkaXZfaWNvbl85YzM2ODdjZTk0OTY0YzhmYTU5NjNiYjY3ZWRhNTc4ZSA9IEwuZGl2SWNvbih7ImNsYXNzTmFtZSI6ICJlbXB0eSIsICJodG1sIjogIlx1MDAzY3N2ZyBoZWlnaHQ9XCI1MFwiIHdpZHRoPVwiNTBcIlx1MDAzZVx1MDAzY2NpcmNsZSBjeD1cIjE1XCIgY3k9XCIxNVwiIHI9XCIxMFwiIHN0cm9rZT1cInllbGxvd1wiIHN0cm9rZS13aWR0aD1cIjNcIiBmaWxsPVwieWVsbG93XCIgL1x1MDAzZVx1MDAzY3RleHQgeD1cIjEwXCIgeT1cIjIwXCIgZmlsbD1cImJsYWNrXCJcdTAwM2UxXHUwMDNjL3RleHRcdTAwM2VcdTAwM2Mvc3ZnXHUwMDNlIn0pOwogICAgICAgICAgICBtYXJrZXJfYWM5NDBhYjdhYjNlNDUyMGIwNzU1Y2E2ZWJjM2QxMGEuc2V0SWNvbihkaXZfaWNvbl85YzM2ODdjZTk0OTY0YzhmYTU5NjNiYjY3ZWRhNTc4ZSk7CiAgICAgICAgCiAgICAKICAgICAgICAgICAgdmFyIG1hcmtlcl8yMzQ0ZTQ3MjFiMWY0YTQzYTZiYmNjNzg0Yzg4NTRjNSA9IEwubWFya2VyKAogICAgICAgICAgICAgICAgWzQzLjcxNTM4MzQsIC03OS40MDU2Nzg0MDAwMDAwMV0sCiAgICAgICAgICAgICAgICB7fQogICAgICAgICAgICApLmFkZFRvKG1hcF9jMDExNjhlN2Y1MDE0MTdhOTJjNmNkOWUwYzA2NjgwMCk7CiAgICAgICAgCiAgICAKICAgICAgICAgICAgdmFyIGRpdl9pY29uXzM4N2JkY2E1OTYzZTQzNjFiMmU5OWJiMmRhYWI5ZGI3ID0gTC5kaXZJY29uKHsiY2xhc3NOYW1lIjogImVtcHR5IiwgImh0bWwiOiAiXHUwMDNjc3ZnIGhlaWdodD1cIjUwXCIgd2lkdGg9XCI1MFwiXHUwMDNlXHUwMDNjY2lyY2xlIGN4PVwiMTVcIiBjeT1cIjE1XCIgcj1cIjEwXCIgc3Ryb2tlPVwieWVsbG93XCIgc3Ryb2tlLXdpZHRoPVwiM1wiIGZpbGw9XCJ5ZWxsb3dcIiAvXHUwMDNlXHUwMDNjdGV4dCB4PVwiMTBcIiB5PVwiMjBcIiBmaWxsPVwiYmxhY2tcIlx1MDAzZTBcdTAwM2MvdGV4dFx1MDAzZVx1MDAzYy9zdmdcdTAwM2UifSk7CiAgICAgICAgICAgIG1hcmtlcl8yMzQ0ZTQ3MjFiMWY0YTQzYTZiYmNjNzg0Yzg4NTRjNS5zZXRJY29uKGRpdl9pY29uXzM4N2JkY2E1OTYzZTQzNjFiMmU5OWJiMmRhYWI5ZGI3KTsKICAgICAgICAKICAgIAogICAgICAgICAgICB2YXIgbWFya2VyXzRiNzQ1YmM4OGIyZTRhMWM5ZTI2ZDhiNzVlZDcwYjYwID0gTC5tYXJrZXIoCiAgICAgICAgICAgICAgICBbNDMuNjcyNzA5NywgLTc5LjQwNTY3ODQwMDAwMDAxXSwKICAgICAgICAgICAgICAgIHt9CiAgICAgICAgICAgICkuYWRkVG8obWFwX2MwMTE2OGU3ZjUwMTQxN2E5MmM2Y2Q5ZTBjMDY2ODAwKTsKICAgICAgICAKICAgIAogICAgICAgICAgICB2YXIgZGl2X2ljb25fMDFjZGIxNjU4ZmRhNDZmYzkwYTRkYzU0NTZmZWYyZjkgPSBMLmRpdkljb24oeyJjbGFzc05hbWUiOiAiZW1wdHkiLCAiaHRtbCI6ICJcdTAwM2NzdmcgaGVpZ2h0PVwiNTBcIiB3aWR0aD1cIjUwXCJcdTAwM2VcdTAwM2NjaXJjbGUgY3g9XCIxNVwiIGN5PVwiMTVcIiByPVwiMTBcIiBzdHJva2U9XCJ5ZWxsb3dcIiBzdHJva2Utd2lkdGg9XCIzXCIgZmlsbD1cInllbGxvd1wiIC9cdTAwM2VcdTAwM2N0ZXh0IHg9XCIxMFwiIHk9XCIyMFwiIGZpbGw9XCJibGFja1wiXHUwMDNlMVx1MDAzYy90ZXh0XHUwMDNlXHUwMDNjL3N2Z1x1MDAzZSJ9KTsKICAgICAgICAgICAgbWFya2VyXzRiNzQ1YmM4OGIyZTRhMWM5ZTI2ZDhiNzVlZDcwYjYwLnNldEljb24oZGl2X2ljb25fMDFjZGIxNjU4ZmRhNDZmYzkwYTRkYzU0NTZmZWYyZjkpOwogICAgICAgIAogICAgCiAgICAgICAgICAgIHZhciBtYXJrZXJfNTI0OTE4MDNmMTdhNDdjNWFkZjE4OGUyNzAyMDNjOGEgPSBMLm1hcmtlcigKICAgICAgICAgICAgICAgIFs0My42NDg5NTk3LCAtNzkuNDU2MzI1XSwKICAgICAgICAgICAgICAgIHt9CiAgICAgICAgICAgICkuYWRkVG8obWFwX2MwMTE2OGU3ZjUwMTQxN2E5MmM2Y2Q5ZTBjMDY2ODAwKTsKICAgICAgICAKICAgIAogICAgICAgICAgICB2YXIgZGl2X2ljb25fNWQ1YTUzYzY0OTA5NDY4ODk4M2IwNDRmYWY3MTA1YmIgPSBMLmRpdkljb24oeyJjbGFzc05hbWUiOiAiZW1wdHkiLCAiaHRtbCI6ICJcdTAwM2NzdmcgaGVpZ2h0PVwiNTBcIiB3aWR0aD1cIjUwXCJcdTAwM2VcdTAwM2NjaXJjbGUgY3g9XCIxNVwiIGN5PVwiMTVcIiByPVwiMTBcIiBzdHJva2U9XCJ5ZWxsb3dcIiBzdHJva2Utd2lkdGg9XCIzXCIgZmlsbD1cInllbGxvd1wiIC9cdTAwM2VcdTAwM2N0ZXh0IHg9XCIxMFwiIHk9XCIyMFwiIGZpbGw9XCJibGFja1wiXHUwMDNlMlx1MDAzYy90ZXh0XHUwMDNlXHUwMDNjL3N2Z1x1MDAzZSJ9KTsKICAgICAgICAgICAgbWFya2VyXzUyNDkxODAzZjE3YTQ3YzVhZGYxODhlMjcwMjAzYzhhLnNldEljb24oZGl2X2ljb25fNWQ1YTUzYzY0OTA5NDY4ODk4M2IwNDRmYWY3MTA1YmIpOwogICAgICAgIAogICAgCiAgICAgICAgICAgIHZhciBtYXJrZXJfZjFlNGZhNWIzMDdiNDJhMjkzYjg3MWQ1ZWViNWI4OWEgPSBMLm1hcmtlcigKICAgICAgICAgICAgICAgIFs0My43MDQzMjQ0LCAtNzkuMzg4NzkwMV0sCiAgICAgICAgICAgICAgICB7fQogICAgICAgICAgICApLmFkZFRvKG1hcF9jMDExNjhlN2Y1MDE0MTdhOTJjNmNkOWUwYzA2NjgwMCk7CiAgICAgICAgCiAgICAKICAgICAgICAgICAgdmFyIGRpdl9pY29uX2Q1Yjg5Yjk2NWFmZjQ5ZTc4MDliMjgxZjA0YTg0M2FlID0gTC5kaXZJY29uKHsiY2xhc3NOYW1lIjogImVtcHR5IiwgImh0bWwiOiAiXHUwMDNjc3ZnIGhlaWdodD1cIjUwXCIgd2lkdGg9XCI1MFwiXHUwMDNlXHUwMDNjY2lyY2xlIGN4PVwiMTVcIiBjeT1cIjE1XCIgcj1cIjEwXCIgc3Ryb2tlPVwieWVsbG93XCIgc3Ryb2tlLXdpZHRoPVwiM1wiIGZpbGw9XCJ5ZWxsb3dcIiAvXHUwMDNlXHUwMDNjdGV4dCB4PVwiMTBcIiB5PVwiMjBcIiBmaWxsPVwiYmxhY2tcIlx1MDAzZTBcdTAwM2MvdGV4dFx1MDAzZVx1MDAzYy9zdmdcdTAwM2UifSk7CiAgICAgICAgICAgIG1hcmtlcl9mMWU0ZmE1YjMwN2I0MmEyOTNiODcxZDVlZWI1Yjg5YS5zZXRJY29uKGRpdl9pY29uX2Q1Yjg5Yjk2NWFmZjQ5ZTc4MDliMjgxZjA0YTg0M2FlKTsKICAgICAgICAKICAgIAogICAgICAgICAgICB2YXIgbWFya2VyXzllZmUyZDdlNDEyMjQ5YWQ4ZjMwN2QyNTNjNzk4MjM2ID0gTC5tYXJrZXIoCiAgICAgICAgICAgICAgICBbNDMuNjYyNjk1NiwgLTc5LjQwMDA0OTNdLAogICAgICAgICAgICAgICAge30KICAgICAgICAgICAgKS5hZGRUbyhtYXBfYzAxMTY4ZTdmNTAxNDE3YTkyYzZjZDllMGMwNjY4MDApOwogICAgICAgIAogICAgCiAgICAgICAgICAgIHZhciBkaXZfaWNvbl82NGI2NzI0ZmU3YTU0NmFmYmIzYjE1MGEyYzYxZWU2MiA9IEwuZGl2SWNvbih7ImNsYXNzTmFtZSI6ICJlbXB0eSIsICJodG1sIjogIlx1MDAzY3N2ZyBoZWlnaHQ9XCI1MFwiIHdpZHRoPVwiNTBcIlx1MDAzZVx1MDAzY2NpcmNsZSBjeD1cIjE1XCIgY3k9XCIxNVwiIHI9XCIxMFwiIHN0cm9rZT1cInllbGxvd1wiIHN0cm9rZS13aWR0aD1cIjNcIiBmaWxsPVwieWVsbG93XCIgL1x1MDAzZVx1MDAzY3RleHQgeD1cIjEwXCIgeT1cIjIwXCIgZmlsbD1cImJsYWNrXCJcdTAwM2UyXHUwMDNjL3RleHRcdTAwM2VcdTAwM2Mvc3ZnXHUwMDNlIn0pOwogICAgICAgICAgICBtYXJrZXJfOWVmZTJkN2U0MTIyNDlhZDhmMzA3ZDI1M2M3OTgyMzYuc2V0SWNvbihkaXZfaWNvbl82NGI2NzI0ZmU3YTU0NmFmYmIzYjE1MGEyYzYxZWU2Mik7CiAgICAgICAgCiAgICAKICAgICAgICAgICAgdmFyIG1hcmtlcl9mY2IyNTAwZWQxNjg0ZDQ2YTQxNGUwYjU3OWMwMjRlMiA9IEwubWFya2VyKAogICAgICAgICAgICAgICAgWzQzLjY1MTU3MDYsIC03OS40ODQ0NDk5XSwKICAgICAgICAgICAgICAgIHt9CiAgICAgICAgICAgICkuYWRkVG8obWFwX2MwMTE2OGU3ZjUwMTQxN2E5MmM2Y2Q5ZTBjMDY2ODAwKTsKICAgICAgICAKICAgIAogICAgICAgICAgICB2YXIgZGl2X2ljb25fZGZjNThlYjM5NGFmNGY1YWFmMDk4MGFkYzI3NDNkZmMgPSBMLmRpdkljb24oeyJjbGFzc05hbWUiOiAiZW1wdHkiLCAiaHRtbCI6ICJcdTAwM2NzdmcgaGVpZ2h0PVwiNTBcIiB3aWR0aD1cIjUwXCJcdTAwM2VcdTAwM2NjaXJjbGUgY3g9XCIxNVwiIGN5PVwiMTVcIiByPVwiMTBcIiBzdHJva2U9XCJ5ZWxsb3dcIiBzdHJva2Utd2lkdGg9XCIzXCIgZmlsbD1cInllbGxvd1wiIC9cdTAwM2VcdTAwM2N0ZXh0IHg9XCIxMFwiIHk9XCIyMFwiIGZpbGw9XCJibGFja1wiXHUwMDNlMVx1MDAzYy90ZXh0XHUwMDNlXHUwMDNjL3N2Z1x1MDAzZSJ9KTsKICAgICAgICAgICAgbWFya2VyX2ZjYjI1MDBlZDE2ODRkNDZhNDE0ZTBiNTc5YzAyNGUyLnNldEljb24oZGl2X2ljb25fZGZjNThlYjM5NGFmNGY1YWFmMDk4MGFkYzI3NDNkZmMpOwogICAgICAgIAogICAgCiAgICAgICAgICAgIHZhciBtYXJrZXJfMmU0Nzc2ODY2MTUwNGM0YTlkNzg5MGUxMDBiZDdjNDMgPSBMLm1hcmtlcigKICAgICAgICAgICAgICAgIFs0My42ODk1NzQzLCAtNzkuMzgzMTU5OTAwMDAwMDFdLAogICAgICAgICAgICAgICAge30KICAgICAgICAgICAgKS5hZGRUbyhtYXBfYzAxMTY4ZTdmNTAxNDE3YTkyYzZjZDllMGMwNjY4MDApOwogICAgICAgIAogICAgCiAgICAgICAgICAgIHZhciBkaXZfaWNvbl9kZWM0ZDQ2YmI4YTk0MjNhYjA1NmEyN2M3ZjFlNTNlMyA9IEwuZGl2SWNvbih7ImNsYXNzTmFtZSI6ICJlbXB0eSIsICJodG1sIjogIlx1MDAzY3N2ZyBoZWlnaHQ9XCI1MFwiIHdpZHRoPVwiNTBcIlx1MDAzZVx1MDAzY2NpcmNsZSBjeD1cIjE1XCIgY3k9XCIxNVwiIHI9XCIxMFwiIHN0cm9rZT1cInllbGxvd1wiIHN0cm9rZS13aWR0aD1cIjNcIiBmaWxsPVwieWVsbG93XCIgL1x1MDAzZVx1MDAzY3RleHQgeD1cIjEwXCIgeT1cIjIwXCIgZmlsbD1cImJsYWNrXCJcdTAwM2UwXHUwMDNjL3RleHRcdTAwM2VcdTAwM2Mvc3ZnXHUwMDNlIn0pOwogICAgICAgICAgICBtYXJrZXJfMmU0Nzc2ODY2MTUwNGM0YTlkNzg5MGUxMDBiZDdjNDMuc2V0SWNvbihkaXZfaWNvbl9kZWM0ZDQ2YmI4YTk0MjNhYjA1NmEyN2M3ZjFlNTNlMyk7CiAgICAgICAgCiAgICAKICAgICAgICAgICAgdmFyIG1hcmtlcl9iZjUyYjEyZDcwZjQ0NGRjOTYxOGJhOTgyMjUyNWM0NCA9IEwubWFya2VyKAogICAgICAgICAgICAgICAgWzQzLjY1MzIwNTcsIC03OS40MDAwNDkzXSwKICAgICAgICAgICAgICAgIHt9CiAgICAgICAgICAgICkuYWRkVG8obWFwX2MwMTE2OGU3ZjUwMTQxN2E5MmM2Y2Q5ZTBjMDY2ODAwKTsKICAgICAgICAKICAgIAogICAgICAgICAgICB2YXIgZGl2X2ljb25fMDA3NDA0MWQ4OTc0NGZhOGEzMzcwNDg3NGViNmE0YzEgPSBMLmRpdkljb24oeyJjbGFzc05hbWUiOiAiZW1wdHkiLCAiaHRtbCI6ICJcdTAwM2NzdmcgaGVpZ2h0PVwiNTBcIiB3aWR0aD1cIjUwXCJcdTAwM2VcdTAwM2NjaXJjbGUgY3g9XCIxNVwiIGN5PVwiMTVcIiByPVwiMTBcIiBzdHJva2U9XCJ5ZWxsb3dcIiBzdHJva2Utd2lkdGg9XCIzXCIgZmlsbD1cInllbGxvd1wiIC9cdTAwM2VcdTAwM2N0ZXh0IHg9XCIxMFwiIHk9XCIyMFwiIGZpbGw9XCJibGFja1wiXHUwMDNlMVx1MDAzYy90ZXh0XHUwMDNlXHUwMDNjL3N2Z1x1MDAzZSJ9KTsKICAgICAgICAgICAgbWFya2VyX2JmNTJiMTJkNzBmNDQ0ZGM5NjE4YmE5ODIyNTI1YzQ0LnNldEljb24oZGl2X2ljb25fMDA3NDA0MWQ4OTc0NGZhOGEzMzcwNDg3NGViNmE0YzEpOwogICAgICAgIAogICAgCiAgICAgICAgICAgIHZhciBtYXJrZXJfMTdkOTc3NTUzMzg4NGFmNjljZDc0MTA5YjIxYWU2MzggPSBMLm1hcmtlcigKICAgICAgICAgICAgICAgIFs0My42ODY0MTIyOTk5OTk5OSwgLTc5LjQwMDA0OTNdLAogICAgICAgICAgICAgICAge30KICAgICAgICAgICAgKS5hZGRUbyhtYXBfYzAxMTY4ZTdmNTAxNDE3YTkyYzZjZDllMGMwNjY4MDApOwogICAgICAgIAogICAgCiAgICAgICAgICAgIHZhciBkaXZfaWNvbl9iYzI3MjgyMmI5ODk0NjQ0YTE4ZmUxZGUxYjU3OWZlMiA9IEwuZGl2SWNvbih7ImNsYXNzTmFtZSI6ICJlbXB0eSIsICJodG1sIjogIlx1MDAzY3N2ZyBoZWlnaHQ9XCI1MFwiIHdpZHRoPVwiNTBcIlx1MDAzZVx1MDAzY2NpcmNsZSBjeD1cIjE1XCIgY3k9XCIxNVwiIHI9XCIxMFwiIHN0cm9rZT1cInllbGxvd1wiIHN0cm9rZS13aWR0aD1cIjNcIiBmaWxsPVwieWVsbG93XCIgL1x1MDAzZVx1MDAzY3RleHQgeD1cIjEwXCIgeT1cIjIwXCIgZmlsbD1cImJsYWNrXCJcdTAwM2UwXHUwMDNjL3RleHRcdTAwM2VcdTAwM2Mvc3ZnXHUwMDNlIn0pOwogICAgICAgICAgICBtYXJrZXJfMTdkOTc3NTUzMzg4NGFmNjljZDc0MTA5YjIxYWU2Mzguc2V0SWNvbihkaXZfaWNvbl9iYzI3MjgyMmI5ODk0NjQ0YTE4ZmUxZGUxYjU3OWZlMik7CiAgICAgICAgCiAgICAKICAgICAgICAgICAgdmFyIG1hcmtlcl9mMzU2MDk2ZWFhNzE0MDBjOWVjYjJmYTdlMzc3ZjkxYSA9IEwubWFya2VyKAogICAgICAgICAgICAgICAgWzQzLjYyODk0NjcsIC03OS4zOTQ0MTk5XSwKICAgICAgICAgICAgICAgIHt9CiAgICAgICAgICAgICkuYWRkVG8obWFwX2MwMTE2OGU3ZjUwMTQxN2E5MmM2Y2Q5ZTBjMDY2ODAwKTsKICAgICAgICAKICAgIAogICAgICAgICAgICB2YXIgZGl2X2ljb25fZjMxOTZlNjkzMTZjNGMyODkzOTFlMjdkNGU1MjQxZDUgPSBMLmRpdkljb24oeyJjbGFzc05hbWUiOiAiZW1wdHkiLCAiaHRtbCI6ICJcdTAwM2NzdmcgaGVpZ2h0PVwiNTBcIiB3aWR0aD1cIjUwXCJcdTAwM2VcdTAwM2NjaXJjbGUgY3g9XCIxNVwiIGN5PVwiMTVcIiByPVwiMTBcIiBzdHJva2U9XCJ5ZWxsb3dcIiBzdHJva2Utd2lkdGg9XCIzXCIgZmlsbD1cInllbGxvd1wiIC9cdTAwM2VcdTAwM2N0ZXh0IHg9XCIxMFwiIHk9XCIyMFwiIGZpbGw9XCJibGFja1wiXHUwMDNlMFx1MDAzYy90ZXh0XHUwMDNlXHUwMDNjL3N2Z1x1MDAzZSJ9KTsKICAgICAgICAgICAgbWFya2VyX2YzNTYwOTZlYWE3MTQwMGM5ZWNiMmZhN2UzNzdmOTFhLnNldEljb24oZGl2X2ljb25fZjMxOTZlNjkzMTZjNGMyODkzOTFlMjdkNGU1MjQxZDUpOwogICAgICAgIAogICAgCiAgICAgICAgICAgIHZhciBtYXJrZXJfN2U4NTA0NzA0N2E1NDY1Mzg5ZGI5YjFkMjgzNGU2YzUgPSBMLm1hcmtlcigKICAgICAgICAgICAgICAgIFs0My42Nzk1NjI2LCAtNzkuMzc3NTI5NDAwMDAwMDFdLAogICAgICAgICAgICAgICAge30KICAgICAgICAgICAgKS5hZGRUbyhtYXBfYzAxMTY4ZTdmNTAxNDE3YTkyYzZjZDllMGMwNjY4MDApOwogICAgICAgIAogICAgCiAgICAgICAgICAgIHZhciBkaXZfaWNvbl85Zjg3MDhjMmQxNmI0MDM4YTE0MDVkMjMyYWJjMmM1YyA9IEwuZGl2SWNvbih7ImNsYXNzTmFtZSI6ICJlbXB0eSIsICJodG1sIjogIlx1MDAzY3N2ZyBoZWlnaHQ9XCI1MFwiIHdpZHRoPVwiNTBcIlx1MDAzZVx1MDAzY2NpcmNsZSBjeD1cIjE1XCIgY3k9XCIxNVwiIHI9XCIxMFwiIHN0cm9rZT1cInllbGxvd1wiIHN0cm9rZS13aWR0aD1cIjNcIiBmaWxsPVwieWVsbG93XCIgL1x1MDAzZVx1MDAzY3RleHQgeD1cIjEwXCIgeT1cIjIwXCIgZmlsbD1cImJsYWNrXCJcdTAwM2UwXHUwMDNjL3RleHRcdTAwM2VcdTAwM2Mvc3ZnXHUwMDNlIn0pOwogICAgICAgICAgICBtYXJrZXJfN2U4NTA0NzA0N2E1NDY1Mzg5ZGI5YjFkMjgzNGU2YzUuc2V0SWNvbihkaXZfaWNvbl85Zjg3MDhjMmQxNmI0MDM4YTE0MDVkMjMyYWJjMmM1Yyk7CiAgICAgICAgCiAgICAKICAgICAgICAgICAgdmFyIG1hcmtlcl9hZWMyNTdkOTQzYWM0NzBhOTBmZmJmYWFiMTNkYjNjYyA9IEwubWFya2VyKAogICAgICAgICAgICAgICAgWzQzLjY0NjQzNTIsIC03OS4zNzQ4NDU5OTk5OTk5OV0sCiAgICAgICAgICAgICAgICB7fQogICAgICAgICAgICApLmFkZFRvKG1hcF9jMDExNjhlN2Y1MDE0MTdhOTJjNmNkOWUwYzA2NjgwMCk7CiAgICAgICAgCiAgICAKICAgICAgICAgICAgdmFyIGRpdl9pY29uX2Y3ZWExZDVjOTk3ZTQyZWM4YjFmMDY5ZGQzNDg0MmUyID0gTC5kaXZJY29uKHsiY2xhc3NOYW1lIjogImVtcHR5IiwgImh0bWwiOiAiXHUwMDNjc3ZnIGhlaWdodD1cIjUwXCIgd2lkdGg9XCI1MFwiXHUwMDNlXHUwMDNjY2lyY2xlIGN4PVwiMTVcIiBjeT1cIjE1XCIgcj1cIjEwXCIgc3Ryb2tlPVwieWVsbG93XCIgc3Ryb2tlLXdpZHRoPVwiM1wiIGZpbGw9XCJ5ZWxsb3dcIiAvXHUwMDNlXHUwMDNjdGV4dCB4PVwiMTBcIiB5PVwiMjBcIiBmaWxsPVwiYmxhY2tcIlx1MDAzZTFcdTAwM2MvdGV4dFx1MDAzZVx1MDAzYy9zdmdcdTAwM2UifSk7CiAgICAgICAgICAgIG1hcmtlcl9hZWMyNTdkOTQzYWM0NzBhOTBmZmJmYWFiMTNkYjNjYy5zZXRJY29uKGRpdl9pY29uX2Y3ZWExZDVjOTk3ZTQyZWM4YjFmMDY5ZGQzNDg0MmUyKTsKICAgICAgICAKICAgIAogICAgICAgICAgICB2YXIgbWFya2VyXzVmYjYyYjA0OTcwYzQxMTFiYmJjMTk2MWJlMWQ3OTJhID0gTC5tYXJrZXIoCiAgICAgICAgICAgICAgICBbNDMuNjY3OTY3LCAtNzkuMzY3Njc1M10sCiAgICAgICAgICAgICAgICB7fQogICAgICAgICAgICApLmFkZFRvKG1hcF9jMDExNjhlN2Y1MDE0MTdhOTJjNmNkOWUwYzA2NjgwMCk7CiAgICAgICAgCiAgICAKICAgICAgICAgICAgdmFyIGRpdl9pY29uXzlkZmZhZDIyN2VhMDRjZTg5ZmZiZjk3N2VlMTZjNWI5ID0gTC5kaXZJY29uKHsiY2xhc3NOYW1lIjogImVtcHR5IiwgImh0bWwiOiAiXHUwMDNjc3ZnIGhlaWdodD1cIjUwXCIgd2lkdGg9XCI1MFwiXHUwMDNlXHUwMDNjY2lyY2xlIGN4PVwiMTVcIiBjeT1cIjE1XCIgcj1cIjEwXCIgc3Ryb2tlPVwieWVsbG93XCIgc3Ryb2tlLXdpZHRoPVwiM1wiIGZpbGw9XCJ5ZWxsb3dcIiAvXHUwMDNlXHUwMDNjdGV4dCB4PVwiMTBcIiB5PVwiMjBcIiBmaWxsPVwiYmxhY2tcIlx1MDAzZTJcdTAwM2MvdGV4dFx1MDAzZVx1MDAzYy9zdmdcdTAwM2UifSk7CiAgICAgICAgICAgIG1hcmtlcl81ZmI2MmIwNDk3MGM0MTExYmJiYzE5NjFiZTFkNzkyYS5zZXRJY29uKGRpdl9pY29uXzlkZmZhZDIyN2VhMDRjZTg5ZmZiZjk3N2VlMTZjNWI5KTsKICAgICAgICAKICAgIAogICAgICAgICAgICB2YXIgbWFya2VyXzk4NGFlMWU3NGEyNzQ5MmJhZWEzYThhYmYzZjU0ZGFkID0gTC5tYXJrZXIoCiAgICAgICAgICAgICAgICBbNDMuNjQ4NDI5MiwgLTc5LjM4MjI4MDJdLAogICAgICAgICAgICAgICAge30KICAgICAgICAgICAgKS5hZGRUbyhtYXBfYzAxMTY4ZTdmNTAxNDE3YTkyYzZjZDllMGMwNjY4MDApOwogICAgICAgIAogICAgCiAgICAgICAgICAgIHZhciBkaXZfaWNvbl82MmRmYzY2MjE1YjE0YzgwYWI1OGVkYzA4Zjg3ZDE0NSA9IEwuZGl2SWNvbih7ImNsYXNzTmFtZSI6ICJlbXB0eSIsICJodG1sIjogIlx1MDAzY3N2ZyBoZWlnaHQ9XCI1MFwiIHdpZHRoPVwiNTBcIlx1MDAzZVx1MDAzY2NpcmNsZSBjeD1cIjE1XCIgY3k9XCIxNVwiIHI9XCIxMFwiIHN0cm9rZT1cInllbGxvd1wiIHN0cm9rZS13aWR0aD1cIjNcIiBmaWxsPVwieWVsbG93XCIgL1x1MDAzZVx1MDAzY3RleHQgeD1cIjEwXCIgeT1cIjIwXCIgZmlsbD1cImJsYWNrXCJcdTAwM2UxXHUwMDNjL3RleHRcdTAwM2VcdTAwM2Mvc3ZnXHUwMDNlIn0pOwogICAgICAgICAgICBtYXJrZXJfOTg0YWUxZTc0YTI3NDkyYmFlYTNhOGFiZjNmNTRkYWQuc2V0SWNvbihkaXZfaWNvbl82MmRmYzY2MjE1YjE0YzgwYWI1OGVkYzA4Zjg3ZDE0NSk7CiAgICAgICAgCiAgICAKICAgICAgICAgICAgdmFyIG1hcmtlcl80YjM3NjQ3ZmQxNjU0NTNiOTg4OTlhYjgwOTFjMzg4ZiA9IEwubWFya2VyKAogICAgICAgICAgICAgICAgWzQzLjY2NTg1OTksIC03OS4zODMxNTk5MDAwMDAwMV0sCiAgICAgICAgICAgICAgICB7fQogICAgICAgICAgICApLmFkZFRvKG1hcF9jMDExNjhlN2Y1MDE0MTdhOTJjNmNkOWUwYzA2NjgwMCk7CiAgICAgICAgCiAgICAKICAgICAgICAgICAgdmFyIGRpdl9pY29uX2Q2MWQ5OGZlYTk4ODQzNDBhMGY1MzZjMjg3Yzk4YzNiID0gTC5kaXZJY29uKHsiY2xhc3NOYW1lIjogImVtcHR5IiwgImh0bWwiOiAiXHUwMDNjc3ZnIGhlaWdodD1cIjUwXCIgd2lkdGg9XCI1MFwiXHUwMDNlXHUwMDNjY2lyY2xlIGN4PVwiMTVcIiBjeT1cIjE1XCIgcj1cIjEwXCIgc3Ryb2tlPVwieWVsbG93XCIgc3Ryb2tlLXdpZHRoPVwiM1wiIGZpbGw9XCJ5ZWxsb3dcIiAvXHUwMDNlXHUwMDNjdGV4dCB4PVwiMTBcIiB5PVwiMjBcIiBmaWxsPVwiYmxhY2tcIlx1MDAzZTJcdTAwM2MvdGV4dFx1MDAzZVx1MDAzYy9zdmdcdTAwM2UifSk7CiAgICAgICAgICAgIG1hcmtlcl80YjM3NjQ3ZmQxNjU0NTNiOTg4OTlhYjgwOTFjMzg4Zi5zZXRJY29uKGRpdl9pY29uX2Q2MWQ5OGZlYTk4ODQzNDBhMGY1MzZjMjg3Yzk4YzNiKTsKICAgICAgICAKICAgIAogICAgICAgICAgICB2YXIgbWFya2VyXzI0M2RkMjY0NzBiNzQ4YjNhNTRmYzk2ZTYxYzAwZjBkID0gTC5tYXJrZXIoCiAgICAgICAgICAgICAgICBbNDMuNjYyNzQzOSwgLTc5LjMyMTU1OF0sCiAgICAgICAgICAgICAgICB7fQogICAgICAgICAgICApLmFkZFRvKG1hcF9jMDExNjhlN2Y1MDE0MTdhOTJjNmNkOWUwYzA2NjgwMCk7CiAgICAgICAgCiAgICAKICAgICAgICAgICAgdmFyIGRpdl9pY29uXzllNmFiYzI0MDhlNDQxOTg5MTgyNGU4OWIyNjkwOTQ0ID0gTC5kaXZJY29uKHsiY2xhc3NOYW1lIjogImVtcHR5IiwgImh0bWwiOiAiXHUwMDNjc3ZnIGhlaWdodD1cIjUwXCIgd2lkdGg9XCI1MFwiXHUwMDNlXHUwMDNjY2lyY2xlIGN4PVwiMTVcIiBjeT1cIjE1XCIgcj1cIjEwXCIgc3Ryb2tlPVwieWVsbG93XCIgc3Ryb2tlLXdpZHRoPVwiM1wiIGZpbGw9XCJ5ZWxsb3dcIiAvXHUwMDNlXHUwMDNjdGV4dCB4PVwiMTBcIiB5PVwiMjBcIiBmaWxsPVwiYmxhY2tcIlx1MDAzZTJcdTAwM2MvdGV4dFx1MDAzZVx1MDAzYy9zdmdcdTAwM2UifSk7CiAgICAgICAgICAgIG1hcmtlcl8yNDNkZDI2NDcwYjc0OGIzYTU0ZmM5NmU2MWMwMGYwZC5zZXRJY29uKGRpdl9pY29uXzllNmFiYzI0MDhlNDQxOTg5MTgyNGU4OWIyNjkwOTQ0KTsKICAgICAgICAKPC9zY3JpcHQ+ onload=\"this.contentDocument.open();this.contentDocument.write(atob(this.getAttribute('data-html')));this.contentDocument.close();\" allowfullscreen webkitallowfullscreen mozallowfullscreen></iframe></div></div>",
                        "text/plain": "<folium.folium.Map at 0x7f4ae2197198>"
                    },
                    "execution_count": 24,
                    "metadata": {},
                    "output_type": "execute_result"
                }
            ],
            "source": "import folium\n \n\nm = folium.Map(location=[43.651070,-79.347015],zoom_start=12)\n\nfor ind in df_merged.index:\n\n    div = folium.DivIcon(html=(\n        '<svg height=\"50\" width=\"50\">'\n        '<circle cx=\"15\" cy=\"15\" r=\"10\" stroke=\"yellow\" stroke-width=\"3\" fill=\"yellow\" />'\n        '<text x=\"10\" y=\"20\" fill=\"black\">'+str(df_merged['Segment'][ind])+ '</text>'\n        '</svg>'\n    ))\n    folium.Marker((df_merged['Latitude'][ind],df_merged['Longitude'][ind]), icon=div).add_to(m)\n\nm\n\n#feature_group = folium.FeatureGroup(\"Locations\")\n\n#for lat, lng, name in zip(lat_lst, lng_lst, name_lst):\n#feature_group.add_child(folium.Marker(location=[43.651070,-79.347015],popup='abcd'))\n\n\n#m.add_child(feature_group)\n#folium.map.Marker(popup='bc',radius=10,location=[43.651070,-79.347015]).add_to(m)"
        },
        {
            "cell_type": "code",
            "execution_count": null,
            "metadata": {},
            "outputs": [],
            "source": ""
        },
        {
            "cell_type": "code",
            "execution_count": null,
            "metadata": {},
            "outputs": [],
            "source": ""
        }
    ],
    "metadata": {
        "kernelspec": {
            "display_name": "Python 3.6",
            "language": "python",
            "name": "python3"
        },
        "language_info": {
            "codemirror_mode": {
                "name": "ipython",
                "version": 3
            },
            "file_extension": ".py",
            "mimetype": "text/x-python",
            "name": "python",
            "nbconvert_exporter": "python",
            "pygments_lexer": "ipython3",
            "version": "3.6.9"
        }
    },
    "nbformat": 4,
    "nbformat_minor": 1
}