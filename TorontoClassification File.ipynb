{
    "cells": [
        {
            "metadata": {
                "collapsed": true
            },
            "cell_type": "markdown",
            "source": "1) Loading and cleaning the data"
        },
        {
            "metadata": {},
            "cell_type": "code",
            "source": "import pandas as pd\nimport numpy as np",
            "execution_count": 51,
            "outputs": []
        },
        {
            "metadata": {},
            "cell_type": "code",
            "source": "df = pd.read_html('https://en.wikipedia.org/wiki/List_of_postal_codes_of_Canada:_M')\ndf = df[0]\n\n#print('Before dropping Boroughs ='.join(df.shape))\ndf= df[df['Borough'] != 'Not assigned'].reset_index(drop= True)\n\ndf.groupby('Postal Code').count()>1\n\ndf[]",
            "execution_count": 88,
            "outputs": [
                {
                    "output_type": "execute_result",
                    "execution_count": 88,
                    "data": {
                        "text/plain": "             Borough  Neighborhood\nPostal Code                       \nM1B            False         False\nM1C            False         False\nM1E            False         False\nM1G            False         False\nM1H            False         False\nM1J            False         False\nM1K            False         False\nM1L            False         False\nM1M            False         False\nM1N            False         False\nM1P            False         False\nM1R            False         False\nM1S            False         False\nM1T            False         False\nM1V            False         False\nM1W            False         False\nM1X            False         False\nM2H            False         False\nM2J            False         False\nM2K            False         False\nM2L            False         False\nM2M            False         False\nM2N            False         False\nM2P            False         False\nM2R            False         False\nM3A            False         False\nM3B            False         False\nM3C            False         False\nM3H            False         False\nM3J            False         False\n...              ...           ...\nM6C            False         False\nM6E            False         False\nM6G            False         False\nM6H            False         False\nM6J            False         False\nM6K            False         False\nM6L            False         False\nM6M            False         False\nM6N            False         False\nM6P            False         False\nM6R            False         False\nM6S            False         False\nM7A            False         False\nM7R            False         False\nM7Y            False         False\nM8V            False         False\nM8W            False         False\nM8X            False         False\nM8Y            False         False\nM8Z            False         False\nM9A            False         False\nM9B            False         False\nM9C            False         False\nM9L            False         False\nM9M            False         False\nM9N            False         False\nM9P            False         False\nM9R            False         False\nM9V            False         False\nM9W            False         False\n\n[103 rows x 2 columns]",
                        "text/html": "<div>\n<style scoped>\n    .dataframe tbody tr th:only-of-type {\n        vertical-align: middle;\n    }\n\n    .dataframe tbody tr th {\n        vertical-align: top;\n    }\n\n    .dataframe thead th {\n        text-align: right;\n    }\n</style>\n<table border=\"1\" class=\"dataframe\">\n  <thead>\n    <tr style=\"text-align: right;\">\n      <th></th>\n      <th>Borough</th>\n      <th>Neighborhood</th>\n    </tr>\n    <tr>\n      <th>Postal Code</th>\n      <th></th>\n      <th></th>\n    </tr>\n  </thead>\n  <tbody>\n    <tr>\n      <th>M1B</th>\n      <td>False</td>\n      <td>False</td>\n    </tr>\n    <tr>\n      <th>M1C</th>\n      <td>False</td>\n      <td>False</td>\n    </tr>\n    <tr>\n      <th>M1E</th>\n      <td>False</td>\n      <td>False</td>\n    </tr>\n    <tr>\n      <th>M1G</th>\n      <td>False</td>\n      <td>False</td>\n    </tr>\n    <tr>\n      <th>M1H</th>\n      <td>False</td>\n      <td>False</td>\n    </tr>\n    <tr>\n      <th>M1J</th>\n      <td>False</td>\n      <td>False</td>\n    </tr>\n    <tr>\n      <th>M1K</th>\n      <td>False</td>\n      <td>False</td>\n    </tr>\n    <tr>\n      <th>M1L</th>\n      <td>False</td>\n      <td>False</td>\n    </tr>\n    <tr>\n      <th>M1M</th>\n      <td>False</td>\n      <td>False</td>\n    </tr>\n    <tr>\n      <th>M1N</th>\n      <td>False</td>\n      <td>False</td>\n    </tr>\n    <tr>\n      <th>M1P</th>\n      <td>False</td>\n      <td>False</td>\n    </tr>\n    <tr>\n      <th>M1R</th>\n      <td>False</td>\n      <td>False</td>\n    </tr>\n    <tr>\n      <th>M1S</th>\n      <td>False</td>\n      <td>False</td>\n    </tr>\n    <tr>\n      <th>M1T</th>\n      <td>False</td>\n      <td>False</td>\n    </tr>\n    <tr>\n      <th>M1V</th>\n      <td>False</td>\n      <td>False</td>\n    </tr>\n    <tr>\n      <th>M1W</th>\n      <td>False</td>\n      <td>False</td>\n    </tr>\n    <tr>\n      <th>M1X</th>\n      <td>False</td>\n      <td>False</td>\n    </tr>\n    <tr>\n      <th>M2H</th>\n      <td>False</td>\n      <td>False</td>\n    </tr>\n    <tr>\n      <th>M2J</th>\n      <td>False</td>\n      <td>False</td>\n    </tr>\n    <tr>\n      <th>M2K</th>\n      <td>False</td>\n      <td>False</td>\n    </tr>\n    <tr>\n      <th>M2L</th>\n      <td>False</td>\n      <td>False</td>\n    </tr>\n    <tr>\n      <th>M2M</th>\n      <td>False</td>\n      <td>False</td>\n    </tr>\n    <tr>\n      <th>M2N</th>\n      <td>False</td>\n      <td>False</td>\n    </tr>\n    <tr>\n      <th>M2P</th>\n      <td>False</td>\n      <td>False</td>\n    </tr>\n    <tr>\n      <th>M2R</th>\n      <td>False</td>\n      <td>False</td>\n    </tr>\n    <tr>\n      <th>M3A</th>\n      <td>False</td>\n      <td>False</td>\n    </tr>\n    <tr>\n      <th>M3B</th>\n      <td>False</td>\n      <td>False</td>\n    </tr>\n    <tr>\n      <th>M3C</th>\n      <td>False</td>\n      <td>False</td>\n    </tr>\n    <tr>\n      <th>M3H</th>\n      <td>False</td>\n      <td>False</td>\n    </tr>\n    <tr>\n      <th>M3J</th>\n      <td>False</td>\n      <td>False</td>\n    </tr>\n    <tr>\n      <th>...</th>\n      <td>...</td>\n      <td>...</td>\n    </tr>\n    <tr>\n      <th>M6C</th>\n      <td>False</td>\n      <td>False</td>\n    </tr>\n    <tr>\n      <th>M6E</th>\n      <td>False</td>\n      <td>False</td>\n    </tr>\n    <tr>\n      <th>M6G</th>\n      <td>False</td>\n      <td>False</td>\n    </tr>\n    <tr>\n      <th>M6H</th>\n      <td>False</td>\n      <td>False</td>\n    </tr>\n    <tr>\n      <th>M6J</th>\n      <td>False</td>\n      <td>False</td>\n    </tr>\n    <tr>\n      <th>M6K</th>\n      <td>False</td>\n      <td>False</td>\n    </tr>\n    <tr>\n      <th>M6L</th>\n      <td>False</td>\n      <td>False</td>\n    </tr>\n    <tr>\n      <th>M6M</th>\n      <td>False</td>\n      <td>False</td>\n    </tr>\n    <tr>\n      <th>M6N</th>\n      <td>False</td>\n      <td>False</td>\n    </tr>\n    <tr>\n      <th>M6P</th>\n      <td>False</td>\n      <td>False</td>\n    </tr>\n    <tr>\n      <th>M6R</th>\n      <td>False</td>\n      <td>False</td>\n    </tr>\n    <tr>\n      <th>M6S</th>\n      <td>False</td>\n      <td>False</td>\n    </tr>\n    <tr>\n      <th>M7A</th>\n      <td>False</td>\n      <td>False</td>\n    </tr>\n    <tr>\n      <th>M7R</th>\n      <td>False</td>\n      <td>False</td>\n    </tr>\n    <tr>\n      <th>M7Y</th>\n      <td>False</td>\n      <td>False</td>\n    </tr>\n    <tr>\n      <th>M8V</th>\n      <td>False</td>\n      <td>False</td>\n    </tr>\n    <tr>\n      <th>M8W</th>\n      <td>False</td>\n      <td>False</td>\n    </tr>\n    <tr>\n      <th>M8X</th>\n      <td>False</td>\n      <td>False</td>\n    </tr>\n    <tr>\n      <th>M8Y</th>\n      <td>False</td>\n      <td>False</td>\n    </tr>\n    <tr>\n      <th>M8Z</th>\n      <td>False</td>\n      <td>False</td>\n    </tr>\n    <tr>\n      <th>M9A</th>\n      <td>False</td>\n      <td>False</td>\n    </tr>\n    <tr>\n      <th>M9B</th>\n      <td>False</td>\n      <td>False</td>\n    </tr>\n    <tr>\n      <th>M9C</th>\n      <td>False</td>\n      <td>False</td>\n    </tr>\n    <tr>\n      <th>M9L</th>\n      <td>False</td>\n      <td>False</td>\n    </tr>\n    <tr>\n      <th>M9M</th>\n      <td>False</td>\n      <td>False</td>\n    </tr>\n    <tr>\n      <th>M9N</th>\n      <td>False</td>\n      <td>False</td>\n    </tr>\n    <tr>\n      <th>M9P</th>\n      <td>False</td>\n      <td>False</td>\n    </tr>\n    <tr>\n      <th>M9R</th>\n      <td>False</td>\n      <td>False</td>\n    </tr>\n    <tr>\n      <th>M9V</th>\n      <td>False</td>\n      <td>False</td>\n    </tr>\n    <tr>\n      <th>M9W</th>\n      <td>False</td>\n      <td>False</td>\n    </tr>\n  </tbody>\n</table>\n<p>103 rows \u00d7 2 columns</p>\n</div>"
                    },
                    "metadata": {}
                }
            ]
        },
        {
            "metadata": {},
            "cell_type": "code",
            "source": "",
            "execution_count": 80,
            "outputs": [
                {
                    "output_type": "execute_result",
                    "execution_count": 80,
                    "data": {
                        "text/plain": "(103, 3)"
                    },
                    "metadata": {}
                }
            ]
        },
        {
            "metadata": {},
            "cell_type": "code",
            "source": "",
            "execution_count": null,
            "outputs": []
        }
    ],
    "metadata": {
        "kernelspec": {
            "name": "python3",
            "display_name": "Python 3.6",
            "language": "python"
        },
        "language_info": {
            "name": "python",
            "version": "3.6.9",
            "mimetype": "text/x-python",
            "codemirror_mode": {
                "name": "ipython",
                "version": 3
            },
            "pygments_lexer": "ipython3",
            "nbconvert_exporter": "python",
            "file_extension": ".py"
        }
    },
    "nbformat": 4,
    "nbformat_minor": 1
}